{
 "cells": [
  {
   "cell_type": "markdown",
   "id": "a6207079",
   "metadata": {},
   "source": [
    "## Importing necessary libraries"
   ]
  },
  {
   "cell_type": "code",
   "execution_count": 1,
   "id": "0ee80132",
   "metadata": {},
   "outputs": [],
   "source": [
    "# Data manipulation and handling libraries\n",
    "import numpy as np\n",
    "import pandas as pd\n",
    "\n",
    "# Data visualization libraries\n",
    "import matplotlib.pyplot as plt\n",
    "import seaborn as sns\n",
    "import scipy.stats as sci\n",
    "\n",
    "# Data preprocessing and EDA libraries\n",
    "from collections import OrderedDict\n",
    "from sklearn.preprocessing import StandardScaler\n",
    "\n",
    "#Warnings filter liabrary\n",
    "import warnings\n",
    "warnings.filterwarnings('ignore')"
   ]
  },
  {
   "cell_type": "markdown",
   "id": "c3760253",
   "metadata": {},
   "source": [
    "### Loading the dataframe"
   ]
  },
  {
   "cell_type": "code",
   "execution_count": 2,
   "id": "01c8f053",
   "metadata": {},
   "outputs": [],
   "source": [
    "df_train = pd.read_excel('Consumer creditworthiness train data.xlsx')\n",
    "test = pd.read_excel('Consumer creditworthiness test data.xlsx')"
   ]
  },
  {
   "cell_type": "code",
   "execution_count": 3,
   "id": "3172cc04",
   "metadata": {},
   "outputs": [],
   "source": [
    "df_test= test.tail(10)"
   ]
  },
  {
   "cell_type": "code",
   "execution_count": 4,
   "id": "d614f824",
   "metadata": {},
   "outputs": [
    {
     "data": {
      "text/html": [
       "<div>\n",
       "<style scoped>\n",
       "    .dataframe tbody tr th:only-of-type {\n",
       "        vertical-align: middle;\n",
       "    }\n",
       "\n",
       "    .dataframe tbody tr th {\n",
       "        vertical-align: top;\n",
       "    }\n",
       "\n",
       "    .dataframe thead th {\n",
       "        text-align: right;\n",
       "    }\n",
       "</style>\n",
       "<table border=\"1\" class=\"dataframe\">\n",
       "  <thead>\n",
       "    <tr style=\"text-align: right;\">\n",
       "      <th></th>\n",
       "      <th>Loan_ID</th>\n",
       "      <th>Gender</th>\n",
       "      <th>Married</th>\n",
       "      <th>Dependents</th>\n",
       "      <th>Education</th>\n",
       "      <th>Self_Employed</th>\n",
       "      <th>ApplicantIncome</th>\n",
       "      <th>CoapplicantIncome</th>\n",
       "      <th>LoanAmount</th>\n",
       "      <th>Loan_Amount_Term</th>\n",
       "      <th>Credit_History</th>\n",
       "      <th>Property_Area</th>\n",
       "    </tr>\n",
       "  </thead>\n",
       "  <tbody>\n",
       "    <tr>\n",
       "      <th>83</th>\n",
       "      <td>862622.0</td>\n",
       "      <td>Female</td>\n",
       "      <td>Yes</td>\n",
       "      <td>1.0</td>\n",
       "      <td>Graduate</td>\n",
       "      <td>No</td>\n",
       "      <td>2700000.0</td>\n",
       "      <td>0.0</td>\n",
       "      <td>992000.0</td>\n",
       "      <td>360.0</td>\n",
       "      <td>1.0</td>\n",
       "      <td>Semiurban</td>\n",
       "    </tr>\n",
       "    <tr>\n",
       "      <th>84</th>\n",
       "      <td>822173.0</td>\n",
       "      <td>Male</td>\n",
       "      <td>Yes</td>\n",
       "      <td>0.0</td>\n",
       "      <td>Not Graduate</td>\n",
       "      <td>No</td>\n",
       "      <td>540000.0</td>\n",
       "      <td>855000.0</td>\n",
       "      <td>0.0</td>\n",
       "      <td>180.0</td>\n",
       "      <td>1.0</td>\n",
       "      <td>Urban</td>\n",
       "    </tr>\n",
       "    <tr>\n",
       "      <th>85</th>\n",
       "      <td>858831.0</td>\n",
       "      <td>Male</td>\n",
       "      <td>Yes</td>\n",
       "      <td>1.0</td>\n",
       "      <td>Graduate</td>\n",
       "      <td>No</td>\n",
       "      <td>765000.0</td>\n",
       "      <td>562500.0</td>\n",
       "      <td>346000.0</td>\n",
       "      <td>360.0</td>\n",
       "      <td>1.0</td>\n",
       "      <td>Semiurban</td>\n",
       "    </tr>\n",
       "    <tr>\n",
       "      <th>86</th>\n",
       "      <td>151918.0</td>\n",
       "      <td>Male</td>\n",
       "      <td>Yes</td>\n",
       "      <td>2.0</td>\n",
       "      <td>Not Graduate</td>\n",
       "      <td>No</td>\n",
       "      <td>897075.0</td>\n",
       "      <td>317475.0</td>\n",
       "      <td>314000.0</td>\n",
       "      <td>360.0</td>\n",
       "      <td>1.0</td>\n",
       "      <td>Rural</td>\n",
       "    </tr>\n",
       "    <tr>\n",
       "      <th>87</th>\n",
       "      <td>994900.0</td>\n",
       "      <td>Male</td>\n",
       "      <td>Yes</td>\n",
       "      <td>0.0</td>\n",
       "      <td>Graduate</td>\n",
       "      <td>No</td>\n",
       "      <td>727200.0</td>\n",
       "      <td>438750.0</td>\n",
       "      <td>216000.0</td>\n",
       "      <td>360.0</td>\n",
       "      <td>1.0</td>\n",
       "      <td>Rural</td>\n",
       "    </tr>\n",
       "    <tr>\n",
       "      <th>88</th>\n",
       "      <td>745846.0</td>\n",
       "      <td>Female</td>\n",
       "      <td>No</td>\n",
       "      <td>0.0</td>\n",
       "      <td>Graduate</td>\n",
       "      <td>No</td>\n",
       "      <td>652500.0</td>\n",
       "      <td>0.0</td>\n",
       "      <td>142000.0</td>\n",
       "      <td>360.0</td>\n",
       "      <td>1.0</td>\n",
       "      <td>Rural</td>\n",
       "    </tr>\n",
       "    <tr>\n",
       "      <th>89</th>\n",
       "      <td>632570.0</td>\n",
       "      <td>Male</td>\n",
       "      <td>Yes</td>\n",
       "      <td>3+</td>\n",
       "      <td>Graduate</td>\n",
       "      <td>No</td>\n",
       "      <td>923850.0</td>\n",
       "      <td>0.0</td>\n",
       "      <td>80000.0</td>\n",
       "      <td>180.0</td>\n",
       "      <td>1.0</td>\n",
       "      <td>Rural</td>\n",
       "    </tr>\n",
       "    <tr>\n",
       "      <th>90</th>\n",
       "      <td>320705.0</td>\n",
       "      <td>Male</td>\n",
       "      <td>Yes</td>\n",
       "      <td>1.0</td>\n",
       "      <td>Graduate</td>\n",
       "      <td>No</td>\n",
       "      <td>1816200.0</td>\n",
       "      <td>54000.0</td>\n",
       "      <td>506000.0</td>\n",
       "      <td>360.0</td>\n",
       "      <td>1.0</td>\n",
       "      <td>Urban</td>\n",
       "    </tr>\n",
       "    <tr>\n",
       "      <th>91</th>\n",
       "      <td>333950.0</td>\n",
       "      <td>Male</td>\n",
       "      <td>Yes</td>\n",
       "      <td>2.0</td>\n",
       "      <td>Graduate</td>\n",
       "      <td>No</td>\n",
       "      <td>1706175.0</td>\n",
       "      <td>0.0</td>\n",
       "      <td>374000.0</td>\n",
       "      <td>360.0</td>\n",
       "      <td>1.0</td>\n",
       "      <td>Urban</td>\n",
       "    </tr>\n",
       "    <tr>\n",
       "      <th>92</th>\n",
       "      <td>458928.0</td>\n",
       "      <td>Female</td>\n",
       "      <td>No</td>\n",
       "      <td>0.0</td>\n",
       "      <td>Graduate</td>\n",
       "      <td>Yes</td>\n",
       "      <td>1031175.0</td>\n",
       "      <td>0.0</td>\n",
       "      <td>266000.0</td>\n",
       "      <td>360.0</td>\n",
       "      <td>0.0</td>\n",
       "      <td>Semiurban</td>\n",
       "    </tr>\n",
       "  </tbody>\n",
       "</table>\n",
       "</div>"
      ],
      "text/plain": [
       "     Loan_ID  Gender Married Dependents     Education Self_Employed  \\\n",
       "83  862622.0  Female     Yes        1.0      Graduate            No   \n",
       "84  822173.0    Male     Yes        0.0  Not Graduate            No   \n",
       "85  858831.0    Male     Yes        1.0      Graduate            No   \n",
       "86  151918.0    Male     Yes        2.0  Not Graduate            No   \n",
       "87  994900.0    Male     Yes        0.0      Graduate            No   \n",
       "88  745846.0  Female      No        0.0      Graduate            No   \n",
       "89  632570.0    Male     Yes         3+      Graduate            No   \n",
       "90  320705.0    Male     Yes        1.0      Graduate            No   \n",
       "91  333950.0    Male     Yes        2.0      Graduate            No   \n",
       "92  458928.0  Female      No        0.0      Graduate           Yes   \n",
       "\n",
       "    ApplicantIncome  CoapplicantIncome  LoanAmount  Loan_Amount_Term  \\\n",
       "83        2700000.0                0.0    992000.0             360.0   \n",
       "84         540000.0           855000.0         0.0             180.0   \n",
       "85         765000.0           562500.0    346000.0             360.0   \n",
       "86         897075.0           317475.0    314000.0             360.0   \n",
       "87         727200.0           438750.0    216000.0             360.0   \n",
       "88         652500.0                0.0    142000.0             360.0   \n",
       "89         923850.0                0.0     80000.0             180.0   \n",
       "90        1816200.0            54000.0    506000.0             360.0   \n",
       "91        1706175.0                0.0    374000.0             360.0   \n",
       "92        1031175.0                0.0    266000.0             360.0   \n",
       "\n",
       "    Credit_History Property_Area  \n",
       "83             1.0     Semiurban  \n",
       "84             1.0         Urban  \n",
       "85             1.0     Semiurban  \n",
       "86             1.0         Rural  \n",
       "87             1.0         Rural  \n",
       "88             1.0         Rural  \n",
       "89             1.0         Rural  \n",
       "90             1.0         Urban  \n",
       "91             1.0         Urban  \n",
       "92             0.0     Semiurban  "
      ]
     },
     "execution_count": 4,
     "metadata": {},
     "output_type": "execute_result"
    }
   ],
   "source": [
    "df_test"
   ]
  },
  {
   "cell_type": "code",
   "execution_count": 5,
   "id": "0ccec4d6",
   "metadata": {},
   "outputs": [
    {
     "data": {
      "text/html": [
       "<div>\n",
       "<style scoped>\n",
       "    .dataframe tbody tr th:only-of-type {\n",
       "        vertical-align: middle;\n",
       "    }\n",
       "\n",
       "    .dataframe tbody tr th {\n",
       "        vertical-align: top;\n",
       "    }\n",
       "\n",
       "    .dataframe thead th {\n",
       "        text-align: right;\n",
       "    }\n",
       "</style>\n",
       "<table border=\"1\" class=\"dataframe\">\n",
       "  <thead>\n",
       "    <tr style=\"text-align: right;\">\n",
       "      <th></th>\n",
       "      <th>Loan_ID</th>\n",
       "      <th>Gender</th>\n",
       "      <th>Married</th>\n",
       "      <th>Dependents</th>\n",
       "      <th>Education</th>\n",
       "      <th>Self_Employed</th>\n",
       "      <th>ApplicantIncome</th>\n",
       "      <th>CoapplicantIncome</th>\n",
       "      <th>LoanAmount</th>\n",
       "      <th>Loan_Amount_Term</th>\n",
       "      <th>Credit_History</th>\n",
       "      <th>Property_Area</th>\n",
       "      <th>Loan_Status</th>\n",
       "    </tr>\n",
       "  </thead>\n",
       "  <tbody>\n",
       "    <tr>\n",
       "      <th>0</th>\n",
       "      <td>294853.0</td>\n",
       "      <td>Male</td>\n",
       "      <td>No</td>\n",
       "      <td>0.0</td>\n",
       "      <td>Graduate</td>\n",
       "      <td>No</td>\n",
       "      <td>1316025.0</td>\n",
       "      <td>0.0</td>\n",
       "      <td>NaN</td>\n",
       "      <td>360.0</td>\n",
       "      <td>1.0</td>\n",
       "      <td>Urban</td>\n",
       "      <td>Y</td>\n",
       "    </tr>\n",
       "    <tr>\n",
       "      <th>1</th>\n",
       "      <td>162883.0</td>\n",
       "      <td>Male</td>\n",
       "      <td>Yes</td>\n",
       "      <td>1.0</td>\n",
       "      <td>Graduate</td>\n",
       "      <td>No</td>\n",
       "      <td>1031175.0</td>\n",
       "      <td>339300.0</td>\n",
       "      <td>256000.0</td>\n",
       "      <td>360.0</td>\n",
       "      <td>1.0</td>\n",
       "      <td>Rural</td>\n",
       "      <td>N</td>\n",
       "    </tr>\n",
       "    <tr>\n",
       "      <th>2</th>\n",
       "      <td>620668.0</td>\n",
       "      <td>Male</td>\n",
       "      <td>Yes</td>\n",
       "      <td>0.0</td>\n",
       "      <td>Graduate</td>\n",
       "      <td>Yes</td>\n",
       "      <td>675000.0</td>\n",
       "      <td>0.0</td>\n",
       "      <td>132000.0</td>\n",
       "      <td>360.0</td>\n",
       "      <td>1.0</td>\n",
       "      <td>Urban</td>\n",
       "      <td>Y</td>\n",
       "    </tr>\n",
       "    <tr>\n",
       "      <th>3</th>\n",
       "      <td>295747.0</td>\n",
       "      <td>Male</td>\n",
       "      <td>Yes</td>\n",
       "      <td>0.0</td>\n",
       "      <td>Not Graduate</td>\n",
       "      <td>No</td>\n",
       "      <td>581175.0</td>\n",
       "      <td>530550.0</td>\n",
       "      <td>240000.0</td>\n",
       "      <td>360.0</td>\n",
       "      <td>1.0</td>\n",
       "      <td>Urban</td>\n",
       "      <td>Y</td>\n",
       "    </tr>\n",
       "    <tr>\n",
       "      <th>4</th>\n",
       "      <td>133390.0</td>\n",
       "      <td>Male</td>\n",
       "      <td>No</td>\n",
       "      <td>0.0</td>\n",
       "      <td>Graduate</td>\n",
       "      <td>No</td>\n",
       "      <td>1350000.0</td>\n",
       "      <td>0.0</td>\n",
       "      <td>282000.0</td>\n",
       "      <td>360.0</td>\n",
       "      <td>1.0</td>\n",
       "      <td>Urban</td>\n",
       "      <td>Y</td>\n",
       "    </tr>\n",
       "  </tbody>\n",
       "</table>\n",
       "</div>"
      ],
      "text/plain": [
       "    Loan_ID Gender Married Dependents     Education Self_Employed  \\\n",
       "0  294853.0   Male      No        0.0      Graduate            No   \n",
       "1  162883.0   Male     Yes        1.0      Graduate            No   \n",
       "2  620668.0   Male     Yes        0.0      Graduate           Yes   \n",
       "3  295747.0   Male     Yes        0.0  Not Graduate            No   \n",
       "4  133390.0   Male      No        0.0      Graduate            No   \n",
       "\n",
       "   ApplicantIncome  CoapplicantIncome  LoanAmount  Loan_Amount_Term  \\\n",
       "0        1316025.0                0.0         NaN             360.0   \n",
       "1        1031175.0           339300.0    256000.0             360.0   \n",
       "2         675000.0                0.0    132000.0             360.0   \n",
       "3         581175.0           530550.0    240000.0             360.0   \n",
       "4        1350000.0                0.0    282000.0             360.0   \n",
       "\n",
       "   Credit_History Property_Area Loan_Status  \n",
       "0             1.0         Urban           Y  \n",
       "1             1.0         Rural           N  \n",
       "2             1.0         Urban           Y  \n",
       "3             1.0         Urban           Y  \n",
       "4             1.0         Urban           Y  "
      ]
     },
     "execution_count": 5,
     "metadata": {},
     "output_type": "execute_result"
    }
   ],
   "source": [
    "df_train.head()"
   ]
  },
  {
   "cell_type": "markdown",
   "id": "fa03792b",
   "metadata": {},
   "source": [
    "### Exploratory Data Analysis"
   ]
  },
  {
   "cell_type": "code",
   "execution_count": 6,
   "id": "64b7e1dc",
   "metadata": {},
   "outputs": [
    {
     "name": "stdout",
     "output_type": "stream",
     "text": [
      "<class 'pandas.core.frame.DataFrame'>\n",
      "RangeIndex: 521 entries, 0 to 520\n",
      "Data columns (total 13 columns):\n",
      " #   Column             Non-Null Count  Dtype  \n",
      "---  ------             --------------  -----  \n",
      " 0   Loan_ID            521 non-null    float64\n",
      " 1   Gender             511 non-null    object \n",
      " 2   Married            518 non-null    object \n",
      " 3   Dependents         508 non-null    object \n",
      " 4   Education          521 non-null    object \n",
      " 5   Self_Employed      494 non-null    object \n",
      " 6   ApplicantIncome    521 non-null    float64\n",
      " 7   CoapplicantIncome  521 non-null    float64\n",
      " 8   LoanAmount         520 non-null    float64\n",
      " 9   Loan_Amount_Term   507 non-null    float64\n",
      " 10  Credit_History     478 non-null    float64\n",
      " 11  Property_Area      521 non-null    object \n",
      " 12  Loan_Status        521 non-null    object \n",
      "dtypes: float64(6), object(7)\n",
      "memory usage: 53.0+ KB\n"
     ]
    }
   ],
   "source": [
    "df_train.info()"
   ]
  },
  {
   "cell_type": "code",
   "execution_count": 7,
   "id": "16d74bb5",
   "metadata": {},
   "outputs": [
    {
     "data": {
      "text/html": [
       "<div>\n",
       "<style scoped>\n",
       "    .dataframe tbody tr th:only-of-type {\n",
       "        vertical-align: middle;\n",
       "    }\n",
       "\n",
       "    .dataframe tbody tr th {\n",
       "        vertical-align: top;\n",
       "    }\n",
       "\n",
       "    .dataframe thead th {\n",
       "        text-align: right;\n",
       "    }\n",
       "</style>\n",
       "<table border=\"1\" class=\"dataframe\">\n",
       "  <thead>\n",
       "    <tr style=\"text-align: right;\">\n",
       "      <th></th>\n",
       "      <th>Loan_ID</th>\n",
       "      <th>Gender</th>\n",
       "      <th>Married</th>\n",
       "      <th>Dependents</th>\n",
       "      <th>Education</th>\n",
       "      <th>Self_Employed</th>\n",
       "      <th>ApplicantIncome</th>\n",
       "      <th>CoapplicantIncome</th>\n",
       "      <th>LoanAmount</th>\n",
       "      <th>Loan_Amount_Term</th>\n",
       "      <th>Credit_History</th>\n",
       "      <th>Property_Area</th>\n",
       "      <th>Loan_Status</th>\n",
       "    </tr>\n",
       "  </thead>\n",
       "  <tbody>\n",
       "    <tr>\n",
       "      <th>0</th>\n",
       "      <td>294853.0</td>\n",
       "      <td>Male</td>\n",
       "      <td>No</td>\n",
       "      <td>0.0</td>\n",
       "      <td>Graduate</td>\n",
       "      <td>No</td>\n",
       "      <td>1316025.0</td>\n",
       "      <td>0.0</td>\n",
       "      <td>NaN</td>\n",
       "      <td>360.0</td>\n",
       "      <td>1.0</td>\n",
       "      <td>Urban</td>\n",
       "      <td>Y</td>\n",
       "    </tr>\n",
       "    <tr>\n",
       "      <th>1</th>\n",
       "      <td>162883.0</td>\n",
       "      <td>Male</td>\n",
       "      <td>Yes</td>\n",
       "      <td>1.0</td>\n",
       "      <td>Graduate</td>\n",
       "      <td>No</td>\n",
       "      <td>1031175.0</td>\n",
       "      <td>339300.0</td>\n",
       "      <td>256000.0</td>\n",
       "      <td>360.0</td>\n",
       "      <td>1.0</td>\n",
       "      <td>Rural</td>\n",
       "      <td>N</td>\n",
       "    </tr>\n",
       "    <tr>\n",
       "      <th>2</th>\n",
       "      <td>620668.0</td>\n",
       "      <td>Male</td>\n",
       "      <td>Yes</td>\n",
       "      <td>0.0</td>\n",
       "      <td>Graduate</td>\n",
       "      <td>Yes</td>\n",
       "      <td>675000.0</td>\n",
       "      <td>0.0</td>\n",
       "      <td>132000.0</td>\n",
       "      <td>360.0</td>\n",
       "      <td>1.0</td>\n",
       "      <td>Urban</td>\n",
       "      <td>Y</td>\n",
       "    </tr>\n",
       "    <tr>\n",
       "      <th>3</th>\n",
       "      <td>295747.0</td>\n",
       "      <td>Male</td>\n",
       "      <td>Yes</td>\n",
       "      <td>0.0</td>\n",
       "      <td>Not Graduate</td>\n",
       "      <td>No</td>\n",
       "      <td>581175.0</td>\n",
       "      <td>530550.0</td>\n",
       "      <td>240000.0</td>\n",
       "      <td>360.0</td>\n",
       "      <td>1.0</td>\n",
       "      <td>Urban</td>\n",
       "      <td>Y</td>\n",
       "    </tr>\n",
       "    <tr>\n",
       "      <th>4</th>\n",
       "      <td>133390.0</td>\n",
       "      <td>Male</td>\n",
       "      <td>No</td>\n",
       "      <td>0.0</td>\n",
       "      <td>Graduate</td>\n",
       "      <td>No</td>\n",
       "      <td>1350000.0</td>\n",
       "      <td>0.0</td>\n",
       "      <td>282000.0</td>\n",
       "      <td>360.0</td>\n",
       "      <td>1.0</td>\n",
       "      <td>Urban</td>\n",
       "      <td>Y</td>\n",
       "    </tr>\n",
       "    <tr>\n",
       "      <th>...</th>\n",
       "      <td>...</td>\n",
       "      <td>...</td>\n",
       "      <td>...</td>\n",
       "      <td>...</td>\n",
       "      <td>...</td>\n",
       "      <td>...</td>\n",
       "      <td>...</td>\n",
       "      <td>...</td>\n",
       "      <td>...</td>\n",
       "      <td>...</td>\n",
       "      <td>...</td>\n",
       "      <td>...</td>\n",
       "      <td>...</td>\n",
       "    </tr>\n",
       "    <tr>\n",
       "      <th>516</th>\n",
       "      <td>947032.0</td>\n",
       "      <td>Female</td>\n",
       "      <td>Yes</td>\n",
       "      <td>2.0</td>\n",
       "      <td>Graduate</td>\n",
       "      <td>No</td>\n",
       "      <td>456975.0</td>\n",
       "      <td>367200.0</td>\n",
       "      <td>226000.0</td>\n",
       "      <td>480.0</td>\n",
       "      <td>1.0</td>\n",
       "      <td>Semiurban</td>\n",
       "      <td>Y</td>\n",
       "    </tr>\n",
       "    <tr>\n",
       "      <th>517</th>\n",
       "      <td>756833.0</td>\n",
       "      <td>Male</td>\n",
       "      <td>Yes</td>\n",
       "      <td>NaN</td>\n",
       "      <td>Not Graduate</td>\n",
       "      <td>No</td>\n",
       "      <td>691650.0</td>\n",
       "      <td>405000.0</td>\n",
       "      <td>246000.0</td>\n",
       "      <td>360.0</td>\n",
       "      <td>0.0</td>\n",
       "      <td>Semiurban</td>\n",
       "      <td>N</td>\n",
       "    </tr>\n",
       "    <tr>\n",
       "      <th>518</th>\n",
       "      <td>395763.0</td>\n",
       "      <td>Male</td>\n",
       "      <td>No</td>\n",
       "      <td>0.0</td>\n",
       "      <td>Graduate</td>\n",
       "      <td>No</td>\n",
       "      <td>1053675.0</td>\n",
       "      <td>430875.0</td>\n",
       "      <td>370000.0</td>\n",
       "      <td>360.0</td>\n",
       "      <td>1.0</td>\n",
       "      <td>Semiurban</td>\n",
       "      <td>N</td>\n",
       "    </tr>\n",
       "    <tr>\n",
       "      <th>519</th>\n",
       "      <td>158946.0</td>\n",
       "      <td>Female</td>\n",
       "      <td>No</td>\n",
       "      <td>0.0</td>\n",
       "      <td>Not Graduate</td>\n",
       "      <td>No</td>\n",
       "      <td>765000.0</td>\n",
       "      <td>0.0</td>\n",
       "      <td>190000.0</td>\n",
       "      <td>360.0</td>\n",
       "      <td>1.0</td>\n",
       "      <td>Rural</td>\n",
       "      <td>N</td>\n",
       "    </tr>\n",
       "    <tr>\n",
       "      <th>520</th>\n",
       "      <td>552637.0</td>\n",
       "      <td>Male</td>\n",
       "      <td>Yes</td>\n",
       "      <td>2.0</td>\n",
       "      <td>Not Graduate</td>\n",
       "      <td>No</td>\n",
       "      <td>493200.0</td>\n",
       "      <td>391950.0</td>\n",
       "      <td>90000.0</td>\n",
       "      <td>360.0</td>\n",
       "      <td>1.0</td>\n",
       "      <td>Semiurban</td>\n",
       "      <td>Y</td>\n",
       "    </tr>\n",
       "  </tbody>\n",
       "</table>\n",
       "<p>521 rows × 13 columns</p>\n",
       "</div>"
      ],
      "text/plain": [
       "      Loan_ID  Gender Married Dependents     Education Self_Employed  \\\n",
       "0    294853.0    Male      No        0.0      Graduate            No   \n",
       "1    162883.0    Male     Yes        1.0      Graduate            No   \n",
       "2    620668.0    Male     Yes        0.0      Graduate           Yes   \n",
       "3    295747.0    Male     Yes        0.0  Not Graduate            No   \n",
       "4    133390.0    Male      No        0.0      Graduate            No   \n",
       "..        ...     ...     ...        ...           ...           ...   \n",
       "516  947032.0  Female     Yes        2.0      Graduate            No   \n",
       "517  756833.0    Male     Yes        NaN  Not Graduate            No   \n",
       "518  395763.0    Male      No        0.0      Graduate            No   \n",
       "519  158946.0  Female      No        0.0  Not Graduate            No   \n",
       "520  552637.0    Male     Yes        2.0  Not Graduate            No   \n",
       "\n",
       "     ApplicantIncome  CoapplicantIncome  LoanAmount  Loan_Amount_Term  \\\n",
       "0          1316025.0                0.0         NaN             360.0   \n",
       "1          1031175.0           339300.0    256000.0             360.0   \n",
       "2           675000.0                0.0    132000.0             360.0   \n",
       "3           581175.0           530550.0    240000.0             360.0   \n",
       "4          1350000.0                0.0    282000.0             360.0   \n",
       "..               ...                ...         ...               ...   \n",
       "516         456975.0           367200.0    226000.0             480.0   \n",
       "517         691650.0           405000.0    246000.0             360.0   \n",
       "518        1053675.0           430875.0    370000.0             360.0   \n",
       "519         765000.0                0.0    190000.0             360.0   \n",
       "520         493200.0           391950.0     90000.0             360.0   \n",
       "\n",
       "     Credit_History Property_Area Loan_Status  \n",
       "0               1.0         Urban           Y  \n",
       "1               1.0         Rural           N  \n",
       "2               1.0         Urban           Y  \n",
       "3               1.0         Urban           Y  \n",
       "4               1.0         Urban           Y  \n",
       "..              ...           ...         ...  \n",
       "516             1.0     Semiurban           Y  \n",
       "517             0.0     Semiurban           N  \n",
       "518             1.0     Semiurban           N  \n",
       "519             1.0         Rural           N  \n",
       "520             1.0     Semiurban           Y  \n",
       "\n",
       "[521 rows x 13 columns]"
      ]
     },
     "execution_count": 7,
     "metadata": {},
     "output_type": "execute_result"
    }
   ],
   "source": [
    "df_train"
   ]
  },
  {
   "cell_type": "code",
   "execution_count": 8,
   "id": "d59f2af9",
   "metadata": {},
   "outputs": [],
   "source": [
    "df= pd.concat([df_train,df_test])"
   ]
  },
  {
   "cell_type": "code",
   "execution_count": 9,
   "id": "4512ecf5",
   "metadata": {},
   "outputs": [
    {
     "data": {
      "text/plain": [
       "Loan_ID               0\n",
       "Gender               10\n",
       "Married               3\n",
       "Dependents           13\n",
       "Education             0\n",
       "Self_Employed        27\n",
       "ApplicantIncome       0\n",
       "CoapplicantIncome     0\n",
       "LoanAmount            1\n",
       "Loan_Amount_Term     14\n",
       "Credit_History       43\n",
       "Property_Area         0\n",
       "Loan_Status          10\n",
       "dtype: int64"
      ]
     },
     "execution_count": 9,
     "metadata": {},
     "output_type": "execute_result"
    }
   ],
   "source": [
    "df.isnull().sum()"
   ]
  },
  {
   "cell_type": "markdown",
   "id": "d5ae64c6",
   "metadata": {},
   "source": [
    "Observation:\n",
    "There are some null values in Gender, dependents, Self_Employed, Loan_Amount_Term and credit-history."
   ]
  },
  {
   "cell_type": "markdown",
   "id": "fa848600",
   "metadata": {},
   "source": [
    "### Filling Null Values"
   ]
  },
  {
   "cell_type": "code",
   "execution_count": 10,
   "id": "be48ba39",
   "metadata": {},
   "outputs": [],
   "source": [
    "#fill missing categorical values with mode\n",
    "\n",
    "categegorical_columns = ['Gender', 'Married', 'Dependents', 'Self_Employed','Credit_History','Loan_Amount_Term']\n",
    "for col in categegorical_columns:\n",
    "    df[col] = df[col].fillna(df[col].mode()[0])\n",
    "    \n",
    "#fill missing numerical values with median\n",
    "\n",
    "numerical_columns = ['LoanAmount']\n",
    "for col in numerical_columns:\n",
    "    df[col]=df[col].fillna(df[col].median())"
   ]
  },
  {
   "cell_type": "code",
   "execution_count": 11,
   "id": "de699f04",
   "metadata": {},
   "outputs": [
    {
     "data": {
      "text/plain": [
       "Loan_ID               0\n",
       "Gender                0\n",
       "Married               0\n",
       "Dependents            0\n",
       "Education             0\n",
       "Self_Employed         0\n",
       "ApplicantIncome       0\n",
       "CoapplicantIncome     0\n",
       "LoanAmount            0\n",
       "Loan_Amount_Term      0\n",
       "Credit_History        0\n",
       "Property_Area         0\n",
       "Loan_Status          10\n",
       "dtype: int64"
      ]
     },
     "execution_count": 11,
     "metadata": {},
     "output_type": "execute_result"
    }
   ],
   "source": [
    "df.isnull().sum()"
   ]
  },
  {
   "cell_type": "markdown",
   "id": "ceb748d3",
   "metadata": {},
   "source": [
    "Missing values are imputed successfully."
   ]
  },
  {
   "cell_type": "code",
   "execution_count": 12,
   "id": "31e8eddf",
   "metadata": {},
   "outputs": [
    {
     "data": {
      "text/html": [
       "<div>\n",
       "<style scoped>\n",
       "    .dataframe tbody tr th:only-of-type {\n",
       "        vertical-align: middle;\n",
       "    }\n",
       "\n",
       "    .dataframe tbody tr th {\n",
       "        vertical-align: top;\n",
       "    }\n",
       "\n",
       "    .dataframe thead th {\n",
       "        text-align: right;\n",
       "    }\n",
       "</style>\n",
       "<table border=\"1\" class=\"dataframe\">\n",
       "  <thead>\n",
       "    <tr style=\"text-align: right;\">\n",
       "      <th></th>\n",
       "      <th>Loan_ID</th>\n",
       "      <th>ApplicantIncome</th>\n",
       "      <th>CoapplicantIncome</th>\n",
       "      <th>LoanAmount</th>\n",
       "      <th>Loan_Amount_Term</th>\n",
       "      <th>Credit_History</th>\n",
       "    </tr>\n",
       "  </thead>\n",
       "  <tbody>\n",
       "    <tr>\n",
       "      <th>count</th>\n",
       "      <td>531.000000</td>\n",
       "      <td>5.310000e+02</td>\n",
       "      <td>5.310000e+02</td>\n",
       "      <td>5.310000e+02</td>\n",
       "      <td>531.000000</td>\n",
       "      <td>531.000000</td>\n",
       "    </tr>\n",
       "    <tr>\n",
       "      <th>mean</th>\n",
       "      <td>548849.766478</td>\n",
       "      <td>1.228399e+06</td>\n",
       "      <td>3.472110e+05</td>\n",
       "      <td>2.805311e+05</td>\n",
       "      <td>343.344633</td>\n",
       "      <td>0.860640</td>\n",
       "    </tr>\n",
       "    <tr>\n",
       "      <th>std</th>\n",
       "      <td>261689.897482</td>\n",
       "      <td>1.438804e+06</td>\n",
       "      <td>4.798371e+05</td>\n",
       "      <td>1.735528e+05</td>\n",
       "      <td>63.047331</td>\n",
       "      <td>0.346648</td>\n",
       "    </tr>\n",
       "    <tr>\n",
       "      <th>min</th>\n",
       "      <td>101559.000000</td>\n",
       "      <td>3.375000e+04</td>\n",
       "      <td>0.000000e+00</td>\n",
       "      <td>0.000000e+00</td>\n",
       "      <td>12.000000</td>\n",
       "      <td>0.000000</td>\n",
       "    </tr>\n",
       "    <tr>\n",
       "      <th>25%</th>\n",
       "      <td>317696.000000</td>\n",
       "      <td>6.477750e+05</td>\n",
       "      <td>0.000000e+00</td>\n",
       "      <td>1.950000e+05</td>\n",
       "      <td>360.000000</td>\n",
       "      <td>1.000000</td>\n",
       "    </tr>\n",
       "    <tr>\n",
       "      <th>50%</th>\n",
       "      <td>546000.000000</td>\n",
       "      <td>8.586000e+05</td>\n",
       "      <td>2.765250e+05</td>\n",
       "      <td>2.500000e+05</td>\n",
       "      <td>360.000000</td>\n",
       "      <td>1.000000</td>\n",
       "    </tr>\n",
       "    <tr>\n",
       "      <th>75%</th>\n",
       "      <td>789552.000000</td>\n",
       "      <td>1.292850e+06</td>\n",
       "      <td>5.158125e+05</td>\n",
       "      <td>3.200000e+05</td>\n",
       "      <td>360.000000</td>\n",
       "      <td>1.000000</td>\n",
       "    </tr>\n",
       "    <tr>\n",
       "      <th>max</th>\n",
       "      <td>998791.000000</td>\n",
       "      <td>1.822500e+07</td>\n",
       "      <td>4.500000e+06</td>\n",
       "      <td>1.400000e+06</td>\n",
       "      <td>480.000000</td>\n",
       "      <td>1.000000</td>\n",
       "    </tr>\n",
       "  </tbody>\n",
       "</table>\n",
       "</div>"
      ],
      "text/plain": [
       "             Loan_ID  ApplicantIncome  CoapplicantIncome    LoanAmount  \\\n",
       "count     531.000000     5.310000e+02       5.310000e+02  5.310000e+02   \n",
       "mean   548849.766478     1.228399e+06       3.472110e+05  2.805311e+05   \n",
       "std    261689.897482     1.438804e+06       4.798371e+05  1.735528e+05   \n",
       "min    101559.000000     3.375000e+04       0.000000e+00  0.000000e+00   \n",
       "25%    317696.000000     6.477750e+05       0.000000e+00  1.950000e+05   \n",
       "50%    546000.000000     8.586000e+05       2.765250e+05  2.500000e+05   \n",
       "75%    789552.000000     1.292850e+06       5.158125e+05  3.200000e+05   \n",
       "max    998791.000000     1.822500e+07       4.500000e+06  1.400000e+06   \n",
       "\n",
       "       Loan_Amount_Term  Credit_History  \n",
       "count        531.000000      531.000000  \n",
       "mean         343.344633        0.860640  \n",
       "std           63.047331        0.346648  \n",
       "min           12.000000        0.000000  \n",
       "25%          360.000000        1.000000  \n",
       "50%          360.000000        1.000000  \n",
       "75%          360.000000        1.000000  \n",
       "max          480.000000        1.000000  "
      ]
     },
     "execution_count": 12,
     "metadata": {},
     "output_type": "execute_result"
    }
   ],
   "source": [
    "df.describe()"
   ]
  },
  {
   "cell_type": "markdown",
   "id": "290ff2aa",
   "metadata": {},
   "source": [
    "Analysis from Descriptive Statistics\n",
    "\n",
    "1. There might be skewness in all the columns.\n",
    "2. There might be chance of outliers if we compare quartile of some columns.\n",
    "3. Since min of Coapplicantincome and Loanamount are zero, outliers are not present towards lower whisker region."
   ]
  },
  {
   "cell_type": "code",
   "execution_count": 13,
   "id": "3d154298",
   "metadata": {},
   "outputs": [],
   "source": [
    "df.drop(\"Loan_ID\",axis=1,inplace=True) # since it has all unique ID's"
   ]
  },
  {
   "cell_type": "markdown",
   "id": "ecd09773",
   "metadata": {},
   "source": [
    "### Performing outlier treatment"
   ]
  },
  {
   "cell_type": "code",
   "execution_count": 14,
   "id": "404b4b01",
   "metadata": {},
   "outputs": [],
   "source": [
    "col_sel=['ApplicantIncome','CoapplicantIncome','LoanAmount']\n",
    "def replace_outlier(my_df, cols):\n",
    "    \n",
    "    for col in cols: \n",
    "        q1 = my_df[col].quantile(0.25)\n",
    "        q3 = my_df[col].quantile(0.75)\n",
    "        iqr = q3 - q1\n",
    "        upper_whisker = q3 + (1.5*iqr)\n",
    "        lower_whisker = q1 - (1.5*iqr)\n",
    "        \n",
    "        my_df[col] = np.where(my_df[col]>upper_whisker, upper_whisker,\n",
    "                           np.where(my_df[col]<lower_whisker, lower_whisker, my_df[col]))\n",
    "replace_outlier(df, col_sel)"
   ]
  },
  {
   "cell_type": "code",
   "execution_count": 15,
   "id": "60c3166b",
   "metadata": {},
   "outputs": [],
   "source": [
    "replace_outlier(df, col_sel)"
   ]
  },
  {
   "cell_type": "code",
   "execution_count": 16,
   "id": "e1030ef3",
   "metadata": {},
   "outputs": [
    {
     "data": {
      "image/png": "[encoded data removed]",
      "text/plain": [
       "<Figure size 432x288 with 1 Axes>"
      ]
     },
     "metadata": {
      "needs_background": "light"
     },
     "output_type": "display_data"
    }
   ],
   "source": [
    "sns.boxplot(df.LoanAmount)\n",
    "plt.show()"
   ]
  },
  {
   "cell_type": "code",
   "execution_count": 17,
   "id": "bf998937",
   "metadata": {},
   "outputs": [
    {
     "data": {
      "image/png": "[encoded data removed]",
      "text/plain": [
       "<Figure size 432x288 with 1 Axes>"
      ]
     },
     "metadata": {
      "needs_background": "light"
     },
     "output_type": "display_data"
    },
    {
     "data": {
      "image/png": "[encoded data removed]",
      "text/plain": [
       "<Figure size 432x288 with 1 Axes>"
      ]
     },
     "metadata": {
      "needs_background": "light"
     },
     "output_type": "display_data"
    },
    {
     "data": {
      "image/png": "[encoded data removed]",
      "text/plain": [
       "<Figure size 432x288 with 1 Axes>"
      ]
     },
     "metadata": {
      "needs_background": "light"
     },
     "output_type": "display_data"
    },
    {
     "data": {
      "image/png": "[encoded data removed]",
      "text/plain": [
       "<Figure size 432x288 with 1 Axes>"
      ]
     },
     "metadata": {
      "needs_background": "light"
     },
     "output_type": "display_data"
    },
    {
     "data": {
      "image/png": "[encoded data removed]",
      "text/plain": [
       "<Figure size 432x288 with 1 Axes>"
      ]
     },
     "metadata": {
      "needs_background": "light"
     },
     "output_type": "display_data"
    },
    {
     "data": {
      "image/png": "[encoded data removed]",
      "text/plain": [
       "<Figure size 432x288 with 1 Axes>"
      ]
     },
     "metadata": {
      "needs_background": "light"
     },
     "output_type": "display_data"
    },
    {
     "data": {
      "image/png": "[encoded data removed]",
      "text/plain": [
       "<Figure size 432x288 with 1 Axes>"
      ]
     },
     "metadata": {
      "needs_background": "light"
     },
     "output_type": "display_data"
    },
    {
     "data": {
      "image/png": "[encoded data removed]",
      "text/plain": [
       "<Figure size 432x288 with 1 Axes>"
      ]
     },
     "metadata": {
      "needs_background": "light"
     },
     "output_type": "display_data"
    },
    {
     "data": {
      "image/png": "[encoded data removed]",
      "text/plain": [
       "<Figure size 432x288 with 1 Axes>"
      ]
     },
     "metadata": {
      "needs_background": "light"
     },
     "output_type": "display_data"
    },
    {
     "data": {
      "image/png": "[encoded data removed]",
      "text/plain": [
       "<Figure size 432x288 with 1 Axes>"
      ]
     },
     "metadata": {
      "needs_background": "light"
     },
     "output_type": "display_data"
    },
    {
     "data": {
      "image/png": "[encoded data removed]",
      "text/plain": [
       "<Figure size 432x288 with 1 Axes>"
      ]
     },
     "metadata": {
      "needs_background": "light"
     },
     "output_type": "display_data"
    },
    {
     "data": {
      "image/png": "[encoded data removed]",
      "text/plain": [
       "<Figure size 432x288 with 1 Axes>"
      ]
     },
     "metadata": {
      "needs_background": "light"
     },
     "output_type": "display_data"
    },
    {
     "data": {
      "image/png": "[encoded data removed]",
      "text/plain": [
       "<Figure size 432x288 with 1 Axes>"
      ]
     },
     "metadata": {
      "needs_background": "light"
     },
     "output_type": "display_data"
    }
   ],
   "source": [
    "for col in (df_train.columns):\n",
    "    plt.figure()\n",
    "    sns.countplot(df_train[col], hue= df_train[\"Loan_Status\"])\n",
    "plt.show()"
   ]
  },
  {
   "cell_type": "markdown",
   "id": "19c024fe",
   "metadata": {},
   "source": [
    "### Label encoding"
   ]
  },
  {
   "cell_type": "code",
   "execution_count": 18,
   "id": "a799439a",
   "metadata": {},
   "outputs": [],
   "source": [
    "df.replace({'Loan_Status':{'N':0,'Y':1},'Married':{'No':0,'Yes':1},'Gender':{'Male':1,'Female':0},'Self_Employed':{'No':0,'Yes':1},\n",
    "                  'Property_Area':{'Rural':0,'Semiurban':1,'Urban':2},'Education':{'Graduate':1,'Not Graduate':0}},inplace=True)"
   ]
  },
  {
   "cell_type": "code",
   "execution_count": 19,
   "id": "9be3ad02",
   "metadata": {},
   "outputs": [
    {
     "data": {
      "text/html": [
       "<div>\n",
       "<style scoped>\n",
       "    .dataframe tbody tr th:only-of-type {\n",
       "        vertical-align: middle;\n",
       "    }\n",
       "\n",
       "    .dataframe tbody tr th {\n",
       "        vertical-align: top;\n",
       "    }\n",
       "\n",
       "    .dataframe thead th {\n",
       "        text-align: right;\n",
       "    }\n",
       "</style>\n",
       "<table border=\"1\" class=\"dataframe\">\n",
       "  <thead>\n",
       "    <tr style=\"text-align: right;\">\n",
       "      <th></th>\n",
       "      <th>Gender</th>\n",
       "      <th>Married</th>\n",
       "      <th>Dependents</th>\n",
       "      <th>Education</th>\n",
       "      <th>Self_Employed</th>\n",
       "      <th>ApplicantIncome</th>\n",
       "      <th>CoapplicantIncome</th>\n",
       "      <th>LoanAmount</th>\n",
       "      <th>Loan_Amount_Term</th>\n",
       "      <th>Credit_History</th>\n",
       "      <th>Property_Area</th>\n",
       "      <th>Loan_Status</th>\n",
       "    </tr>\n",
       "  </thead>\n",
       "  <tbody>\n",
       "    <tr>\n",
       "      <th>0</th>\n",
       "      <td>1</td>\n",
       "      <td>0</td>\n",
       "      <td>0.0</td>\n",
       "      <td>1</td>\n",
       "      <td>0</td>\n",
       "      <td>1316025.0</td>\n",
       "      <td>0.0</td>\n",
       "      <td>250000.0</td>\n",
       "      <td>360.0</td>\n",
       "      <td>1.0</td>\n",
       "      <td>2</td>\n",
       "      <td>1.0</td>\n",
       "    </tr>\n",
       "    <tr>\n",
       "      <th>1</th>\n",
       "      <td>1</td>\n",
       "      <td>1</td>\n",
       "      <td>1.0</td>\n",
       "      <td>1</td>\n",
       "      <td>0</td>\n",
       "      <td>1031175.0</td>\n",
       "      <td>339300.0</td>\n",
       "      <td>256000.0</td>\n",
       "      <td>360.0</td>\n",
       "      <td>1.0</td>\n",
       "      <td>0</td>\n",
       "      <td>0.0</td>\n",
       "    </tr>\n",
       "    <tr>\n",
       "      <th>2</th>\n",
       "      <td>1</td>\n",
       "      <td>1</td>\n",
       "      <td>0.0</td>\n",
       "      <td>1</td>\n",
       "      <td>1</td>\n",
       "      <td>675000.0</td>\n",
       "      <td>0.0</td>\n",
       "      <td>132000.0</td>\n",
       "      <td>360.0</td>\n",
       "      <td>1.0</td>\n",
       "      <td>2</td>\n",
       "      <td>1.0</td>\n",
       "    </tr>\n",
       "    <tr>\n",
       "      <th>3</th>\n",
       "      <td>1</td>\n",
       "      <td>1</td>\n",
       "      <td>0.0</td>\n",
       "      <td>0</td>\n",
       "      <td>0</td>\n",
       "      <td>581175.0</td>\n",
       "      <td>530550.0</td>\n",
       "      <td>240000.0</td>\n",
       "      <td>360.0</td>\n",
       "      <td>1.0</td>\n",
       "      <td>2</td>\n",
       "      <td>1.0</td>\n",
       "    </tr>\n",
       "    <tr>\n",
       "      <th>4</th>\n",
       "      <td>1</td>\n",
       "      <td>0</td>\n",
       "      <td>0.0</td>\n",
       "      <td>1</td>\n",
       "      <td>0</td>\n",
       "      <td>1350000.0</td>\n",
       "      <td>0.0</td>\n",
       "      <td>282000.0</td>\n",
       "      <td>360.0</td>\n",
       "      <td>1.0</td>\n",
       "      <td>2</td>\n",
       "      <td>1.0</td>\n",
       "    </tr>\n",
       "    <tr>\n",
       "      <th>...</th>\n",
       "      <td>...</td>\n",
       "      <td>...</td>\n",
       "      <td>...</td>\n",
       "      <td>...</td>\n",
       "      <td>...</td>\n",
       "      <td>...</td>\n",
       "      <td>...</td>\n",
       "      <td>...</td>\n",
       "      <td>...</td>\n",
       "      <td>...</td>\n",
       "      <td>...</td>\n",
       "      <td>...</td>\n",
       "    </tr>\n",
       "    <tr>\n",
       "      <th>88</th>\n",
       "      <td>0</td>\n",
       "      <td>0</td>\n",
       "      <td>0.0</td>\n",
       "      <td>1</td>\n",
       "      <td>0</td>\n",
       "      <td>652500.0</td>\n",
       "      <td>0.0</td>\n",
       "      <td>142000.0</td>\n",
       "      <td>360.0</td>\n",
       "      <td>1.0</td>\n",
       "      <td>0</td>\n",
       "      <td>NaN</td>\n",
       "    </tr>\n",
       "    <tr>\n",
       "      <th>89</th>\n",
       "      <td>1</td>\n",
       "      <td>1</td>\n",
       "      <td>3+</td>\n",
       "      <td>1</td>\n",
       "      <td>0</td>\n",
       "      <td>923850.0</td>\n",
       "      <td>0.0</td>\n",
       "      <td>80000.0</td>\n",
       "      <td>180.0</td>\n",
       "      <td>1.0</td>\n",
       "      <td>0</td>\n",
       "      <td>NaN</td>\n",
       "    </tr>\n",
       "    <tr>\n",
       "      <th>90</th>\n",
       "      <td>1</td>\n",
       "      <td>1</td>\n",
       "      <td>1.0</td>\n",
       "      <td>1</td>\n",
       "      <td>0</td>\n",
       "      <td>1816200.0</td>\n",
       "      <td>54000.0</td>\n",
       "      <td>506000.0</td>\n",
       "      <td>360.0</td>\n",
       "      <td>1.0</td>\n",
       "      <td>2</td>\n",
       "      <td>NaN</td>\n",
       "    </tr>\n",
       "    <tr>\n",
       "      <th>91</th>\n",
       "      <td>1</td>\n",
       "      <td>1</td>\n",
       "      <td>2.0</td>\n",
       "      <td>1</td>\n",
       "      <td>0</td>\n",
       "      <td>1706175.0</td>\n",
       "      <td>0.0</td>\n",
       "      <td>374000.0</td>\n",
       "      <td>360.0</td>\n",
       "      <td>1.0</td>\n",
       "      <td>2</td>\n",
       "      <td>NaN</td>\n",
       "    </tr>\n",
       "    <tr>\n",
       "      <th>92</th>\n",
       "      <td>0</td>\n",
       "      <td>0</td>\n",
       "      <td>0.0</td>\n",
       "      <td>1</td>\n",
       "      <td>1</td>\n",
       "      <td>1031175.0</td>\n",
       "      <td>0.0</td>\n",
       "      <td>266000.0</td>\n",
       "      <td>360.0</td>\n",
       "      <td>0.0</td>\n",
       "      <td>1</td>\n",
       "      <td>NaN</td>\n",
       "    </tr>\n",
       "  </tbody>\n",
       "</table>\n",
       "<p>531 rows × 12 columns</p>\n",
       "</div>"
      ],
      "text/plain": [
       "    Gender  Married Dependents  Education  Self_Employed  ApplicantIncome  \\\n",
       "0        1        0        0.0          1              0        1316025.0   \n",
       "1        1        1        1.0          1              0        1031175.0   \n",
       "2        1        1        0.0          1              1         675000.0   \n",
       "3        1        1        0.0          0              0         581175.0   \n",
       "4        1        0        0.0          1              0        1350000.0   \n",
       "..     ...      ...        ...        ...            ...              ...   \n",
       "88       0        0        0.0          1              0         652500.0   \n",
       "89       1        1         3+          1              0         923850.0   \n",
       "90       1        1        1.0          1              0        1816200.0   \n",
       "91       1        1        2.0          1              0        1706175.0   \n",
       "92       0        0        0.0          1              1        1031175.0   \n",
       "\n",
       "    CoapplicantIncome  LoanAmount  Loan_Amount_Term  Credit_History  \\\n",
       "0                 0.0    250000.0             360.0             1.0   \n",
       "1            339300.0    256000.0             360.0             1.0   \n",
       "2                 0.0    132000.0             360.0             1.0   \n",
       "3            530550.0    240000.0             360.0             1.0   \n",
       "4                 0.0    282000.0             360.0             1.0   \n",
       "..                ...         ...               ...             ...   \n",
       "88                0.0    142000.0             360.0             1.0   \n",
       "89                0.0     80000.0             180.0             1.0   \n",
       "90            54000.0    506000.0             360.0             1.0   \n",
       "91                0.0    374000.0             360.0             1.0   \n",
       "92                0.0    266000.0             360.0             0.0   \n",
       "\n",
       "    Property_Area  Loan_Status  \n",
       "0               2          1.0  \n",
       "1               0          0.0  \n",
       "2               2          1.0  \n",
       "3               2          1.0  \n",
       "4               2          1.0  \n",
       "..            ...          ...  \n",
       "88              0          NaN  \n",
       "89              0          NaN  \n",
       "90              2          NaN  \n",
       "91              2          NaN  \n",
       "92              1          NaN  \n",
       "\n",
       "[531 rows x 12 columns]"
      ]
     },
     "execution_count": 19,
     "metadata": {},
     "output_type": "execute_result"
    }
   ],
   "source": [
    "df"
   ]
  },
  {
   "cell_type": "code",
   "execution_count": 20,
   "id": "0d012e22",
   "metadata": {},
   "outputs": [],
   "source": [
    "# replacing the value of 3+ to 4\n",
    "df_new = df.replace(to_replace='3+', value=4)"
   ]
  },
  {
   "cell_type": "code",
   "execution_count": 21,
   "id": "f80a3bda",
   "metadata": {},
   "outputs": [],
   "source": [
    "new_train = df_new.iloc[:521]\n",
    "new_test = df_new.iloc[521:]"
   ]
  },
  {
   "cell_type": "markdown",
   "id": "6def9a73",
   "metadata": {},
   "source": [
    "### Multivariate Analysis using Regression"
   ]
  },
  {
   "cell_type": "code",
   "execution_count": 22,
   "id": "b1cd4a4d",
   "metadata": {},
   "outputs": [
    {
     "data": {
      "image/png": "[encoded data removed]",
      "text/plain": [
       "<Figure size 720x360 with 1 Axes>"
      ]
     },
     "metadata": {
      "needs_background": "light"
     },
     "output_type": "display_data"
    },
    {
     "data": {
      "image/png": "[encoded data removed]",
      "text/plain": [
       "<Figure size 720x360 with 1 Axes>"
      ]
     },
     "metadata": {
      "needs_background": "light"
     },
     "output_type": "display_data"
    },
    {
     "data": {
      "image/png": "[encoded data removed]",
      "text/plain": [
       "<Figure size 720x360 with 1 Axes>"
      ]
     },
     "metadata": {
      "needs_background": "light"
     },
     "output_type": "display_data"
    },
    {
     "data": {
      "image/png": "[encoded data removed]",
      "text/plain": [
       "<Figure size 720x360 with 1 Axes>"
      ]
     },
     "metadata": {
      "needs_background": "light"
     },
     "output_type": "display_data"
    },
    {
     "data": {
      "image/png": "[encoded data removed]",
      "text/plain": [
       "<Figure size 720x360 with 1 Axes>"
      ]
     },
     "metadata": {
      "needs_background": "light"
     },
     "output_type": "display_data"
    },
    {
     "data": {
      "image/png": "[encoded data removed]",
      "text/plain": [
       "<Figure size 720x360 with 1 Axes>"
      ]
     },
     "metadata": {
      "needs_background": "light"
     },
     "output_type": "display_data"
    },
    {
     "data": {
      "image/png": "[encoded data removed]",
      "text/plain": [
       "<Figure size 720x360 with 1 Axes>"
      ]
     },
     "metadata": {
      "needs_background": "light"
     },
     "output_type": "display_data"
    },
    {
     "data": {
      "image/png": "[encoded data removed]",
      "text/plain": [
       "<Figure size 720x360 with 1 Axes>"
      ]
     },
     "metadata": {
      "needs_background": "light"
     },
     "output_type": "display_data"
    },
    {
     "data": {
      "image/png": "[encoded data removed]",
      "text/plain": [
       "<Figure size 720x360 with 1 Axes>"
      ]
     },
     "metadata": {
      "needs_background": "light"
     },
     "output_type": "display_data"
    },
    {
     "data": {
      "image/png": "[encoded data removed]",
      "text/plain": [
       "<Figure size 720x360 with 1 Axes>"
      ]
     },
     "metadata": {
      "needs_background": "light"
     },
     "output_type": "display_data"
    },
    {
     "data": {
      "image/png": "[encoded data removed]",
      "text/plain": [
       "<Figure size 720x360 with 1 Axes>"
      ]
     },
     "metadata": {
      "needs_background": "light"
     },
     "output_type": "display_data"
    }
   ],
   "source": [
    "for col in new_train.columns:\n",
    "    if col != \"Loan_Status\":\n",
    "        fig,ax1 = plt.subplots(figsize = (10,5)) # Give any size\n",
    "        sns.regplot(x = new_train[col], y = new_train[\"Loan_Status\"],ax=ax1).set_title(f'Relation between {col} and Loan_Status')"
   ]
  },
  {
   "cell_type": "markdown",
   "id": "bd34be9a",
   "metadata": {},
   "source": [
    "### Multi collinearity\n",
    "1. correlation matrix / heat map (stage 1)"
   ]
  },
  {
   "cell_type": "code",
   "execution_count": 23,
   "id": "ae671f0a",
   "metadata": {},
   "outputs": [
    {
     "data": {
      "text/plain": [
       "<AxesSubplot:>"
      ]
     },
     "execution_count": 23,
     "metadata": {},
     "output_type": "execute_result"
    },
    {
     "data": {
      "image/png": "[encoded data removed]",
      "text/plain": [
       "<Figure size 1080x720 with 2 Axes>"
      ]
     },
     "metadata": {
      "needs_background": "light"
     },
     "output_type": "display_data"
    }
   ],
   "source": [
    "corr = new_train.corr()\n",
    "df_new.ax = plt.subplots(figsize =(15,10))\n",
    "sns.heatmap(corr, annot = True)"
   ]
  },
  {
   "cell_type": "markdown",
   "id": "7463429a",
   "metadata": {},
   "source": [
    "Analysis from correllation plot\n",
    "1. Here we see that ApplicantIncome and LoanAmount have high colinearity.\n",
    "2. Also credit history seems to be highly correlated with loan status, this points to it being the most important feature for our model."
   ]
  },
  {
   "cell_type": "code",
   "execution_count": 24,
   "id": "369253ae",
   "metadata": {},
   "outputs": [],
   "source": [
    "#sns.pairplot(data= new_train, hue= \"Loan_Status\")\n",
    "#plt.show()"
   ]
  },
  {
   "cell_type": "markdown",
   "id": "5a292647",
   "metadata": {},
   "source": [
    "#### correlation with target feature"
   ]
  },
  {
   "cell_type": "code",
   "execution_count": 25,
   "id": "b0afb45c",
   "metadata": {},
   "outputs": [],
   "source": [
    "def correlation_with_target(data,t_col):\n",
    "    independent_variable = data.drop(t_col,axis=1).columns\n",
    "    corr_result = []\n",
    "    for col in independent_variable:\n",
    "        corr_result.append(data[t_col].corr(data[col]))\n",
    "    result = pd.DataFrame([independent_variable,corr_result],index=['Independent variables','Correlation']).T\n",
    "    return result.sort_values('Correlation',ascending = False)"
   ]
  },
  {
   "cell_type": "code",
   "execution_count": 26,
   "id": "cdaf618f",
   "metadata": {},
   "outputs": [
    {
     "data": {
      "text/html": [
       "<div>\n",
       "<style scoped>\n",
       "    .dataframe tbody tr th:only-of-type {\n",
       "        vertical-align: middle;\n",
       "    }\n",
       "\n",
       "    .dataframe tbody tr th {\n",
       "        vertical-align: top;\n",
       "    }\n",
       "\n",
       "    .dataframe thead th {\n",
       "        text-align: right;\n",
       "    }\n",
       "</style>\n",
       "<table border=\"1\" class=\"dataframe\">\n",
       "  <thead>\n",
       "    <tr style=\"text-align: right;\">\n",
       "      <th></th>\n",
       "      <th>Independent variables</th>\n",
       "      <th>Correlation</th>\n",
       "    </tr>\n",
       "  </thead>\n",
       "  <tbody>\n",
       "    <tr>\n",
       "      <th>9</th>\n",
       "      <td>Credit_History</td>\n",
       "      <td>0.526675</td>\n",
       "    </tr>\n",
       "    <tr>\n",
       "      <th>3</th>\n",
       "      <td>Education</td>\n",
       "      <td>0.106943</td>\n",
       "    </tr>\n",
       "    <tr>\n",
       "      <th>1</th>\n",
       "      <td>Married</td>\n",
       "      <td>0.093195</td>\n",
       "    </tr>\n",
       "    <tr>\n",
       "      <th>10</th>\n",
       "      <td>Property_Area</td>\n",
       "      <td>0.040831</td>\n",
       "    </tr>\n",
       "    <tr>\n",
       "      <th>0</th>\n",
       "      <td>Gender</td>\n",
       "      <td>0.020986</td>\n",
       "    </tr>\n",
       "    <tr>\n",
       "      <th>6</th>\n",
       "      <td>CoapplicantIncome</td>\n",
       "      <td>0.020957</td>\n",
       "    </tr>\n",
       "    <tr>\n",
       "      <th>2</th>\n",
       "      <td>Dependents</td>\n",
       "      <td>0.007448</td>\n",
       "    </tr>\n",
       "    <tr>\n",
       "      <th>4</th>\n",
       "      <td>Self_Employed</td>\n",
       "      <td>-0.000475</td>\n",
       "    </tr>\n",
       "    <tr>\n",
       "      <th>5</th>\n",
       "      <td>ApplicantIncome</td>\n",
       "      <td>-0.02543</td>\n",
       "    </tr>\n",
       "    <tr>\n",
       "      <th>7</th>\n",
       "      <td>LoanAmount</td>\n",
       "      <td>-0.042641</td>\n",
       "    </tr>\n",
       "    <tr>\n",
       "      <th>8</th>\n",
       "      <td>Loan_Amount_Term</td>\n",
       "      <td>-0.054781</td>\n",
       "    </tr>\n",
       "  </tbody>\n",
       "</table>\n",
       "</div>"
      ],
      "text/plain": [
       "   Independent variables Correlation\n",
       "9         Credit_History    0.526675\n",
       "3              Education    0.106943\n",
       "1                Married    0.093195\n",
       "10         Property_Area    0.040831\n",
       "0                 Gender    0.020986\n",
       "6      CoapplicantIncome    0.020957\n",
       "2             Dependents    0.007448\n",
       "4          Self_Employed   -0.000475\n",
       "5        ApplicantIncome    -0.02543\n",
       "7             LoanAmount   -0.042641\n",
       "8       Loan_Amount_Term   -0.054781"
      ]
     },
     "execution_count": 26,
     "metadata": {},
     "output_type": "execute_result"
    }
   ],
   "source": [
    "correlation_with_target(new_train,'Loan_Status')"
   ]
  },
  {
   "cell_type": "code",
   "execution_count": 27,
   "id": "bcafc776",
   "metadata": {},
   "outputs": [
    {
     "data": {
      "image/png": "[encoded data removed]",
      "text/plain": [
       "<Figure size 1080x720 with 1 Axes>"
      ]
     },
     "metadata": {
      "needs_background": "light"
     },
     "output_type": "display_data"
    }
   ],
   "source": [
    "plt.figure(figsize=(15,10))\n",
    "new_train.corr()['Loan_Status'].sort_values(ascending=False).drop(['Loan_Status']).plot(kind='bar', color='g')\n",
    "plt.xlabel(\"Feature\",fontsize=14)\n",
    "plt.ylabel(\"Loan_Status\",fontsize=14)\n",
    "plt.title(\"Correlation\",fontsize=18)\n",
    "plt.show()"
   ]
  },
  {
   "cell_type": "markdown",
   "id": "12787341",
   "metadata": {},
   "source": [
    "Analysis from Correlation graph:\n",
    "1. Credit_History has more correlation than any other feature.\n",
    "2. Education , Married and Property_Area has positive correlation.\n",
    "3. Loan_Amount_Term is more negatively correlated.\n",
    "4. Dependents and Self_Employed has very low correlation."
   ]
  },
  {
   "cell_type": "markdown",
   "id": "893a7ea3",
   "metadata": {},
   "source": [
    "### Bi-Variate Analysis"
   ]
  },
  {
   "cell_type": "code",
   "execution_count": 28,
   "id": "5bebae2d",
   "metadata": {},
   "outputs": [
    {
     "data": {
      "image/png": "[encoded data removed]",
      "text/plain": [
       "<Figure size 432x288 with 1 Axes>"
      ]
     },
     "metadata": {
      "needs_background": "light"
     },
     "output_type": "display_data"
    },
    {
     "data": {
      "image/png": "[encoded data removed]",
      "text/plain": [
       "<Figure size 432x288 with 1 Axes>"
      ]
     },
     "metadata": {
      "needs_background": "light"
     },
     "output_type": "display_data"
    },
    {
     "data": {
      "image/png": "[encoded data removed]",
      "text/plain": [
       "<Figure size 432x288 with 1 Axes>"
      ]
     },
     "metadata": {
      "needs_background": "light"
     },
     "output_type": "display_data"
    },
    {
     "data": {
      "image/png": "[encoded data removed]",
      "text/plain": [
       "<Figure size 432x288 with 1 Axes>"
      ]
     },
     "metadata": {
      "needs_background": "light"
     },
     "output_type": "display_data"
    },
    {
     "data": {
      "image/png": "[encoded data removed]",
      "text/plain": [
       "<Figure size 432x288 with 1 Axes>"
      ]
     },
     "metadata": {
      "needs_background": "light"
     },
     "output_type": "display_data"
    },
    {
     "data": {
      "image/png": "[encoded data removed]",
      "text/plain": [
       "<Figure size 432x288 with 1 Axes>"
      ]
     },
     "metadata": {
      "needs_background": "light"
     },
     "output_type": "display_data"
    },
    {
     "data": {
      "image/png": "[encoded data removed]",
      "text/plain": [
       "<Figure size 432x288 with 1 Axes>"
      ]
     },
     "metadata": {
      "needs_background": "light"
     },
     "output_type": "display_data"
    },
    {
     "data": {
      "image/png": "[encoded data removed]",
      "text/plain": [
       "<Figure size 432x288 with 1 Axes>"
      ]
     },
     "metadata": {
      "needs_background": "light"
     },
     "output_type": "display_data"
    },
    {
     "data": {
      "image/png": "[encoded data removed]",
      "text/plain": [
       "<Figure size 432x288 with 1 Axes>"
      ]
     },
     "metadata": {
      "needs_background": "light"
     },
     "output_type": "display_data"
    },
    {
     "data": {
      "image/png": "[encoded data removed]",
      "text/plain": [
       "<Figure size 432x288 with 1 Axes>"
      ]
     },
     "metadata": {
      "needs_background": "light"
     },
     "output_type": "display_data"
    },
    {
     "data": {
      "image/png": "[encoded data removed]",
      "text/plain": [
       "<Figure size 432x288 with 1 Axes>"
      ]
     },
     "metadata": {
      "needs_background": "light"
     },
     "output_type": "display_data"
    },
    {
     "data": {
      "image/png": "[encoded data removed]",
      "text/plain": [
       "<Figure size 432x288 with 1 Axes>"
      ]
     },
     "metadata": {
      "needs_background": "light"
     },
     "output_type": "display_data"
    }
   ],
   "source": [
    "from numpy import mean\n",
    "for col in (new_train.columns):\n",
    "    plt.figure()\n",
    "    sns.barplot(x=col, y=\"Loan_Status\",data=new_train,estimator = mean )\n",
    "plt.show()"
   ]
  },
  {
   "cell_type": "markdown",
   "id": "fbb015c9",
   "metadata": {},
   "source": [
    "### Data Preparation"
   ]
  },
  {
   "cell_type": "code",
   "execution_count": 29,
   "id": "07f7a828",
   "metadata": {},
   "outputs": [],
   "source": [
    "# split into X and y\n",
    "X = new_train.drop('Loan_Status', axis = 1)\n",
    "y = new_train['Loan_Status']"
   ]
  },
  {
   "cell_type": "markdown",
   "id": "cc21321a",
   "metadata": {},
   "source": [
    "## Feature Engineering "
   ]
  },
  {
   "cell_type": "markdown",
   "id": "4a533992",
   "metadata": {},
   "source": [
    "1. Features like LoanAmount_per_term & IncomeAmount_per_term are created for better understanding of the consumer.\n",
    "2. LoanAmount_per_term = Loan Amount/Loan_Amount_term\n",
    "3. RatioIncomeAmount_per_term = IncomeAmount / Loan_Amount_term\n",
    "4. If the LoanAmount_per_term is greater than IncomeAmount_per_term,consumer may face problem in repaying the Loan back in time."
   ]
  },
  {
   "cell_type": "code",
   "execution_count": 30,
   "id": "eccc85a2",
   "metadata": {},
   "outputs": [],
   "source": [
    "df_new['LoanAmount_per_term'] = df_new.LoanAmount/df_new.Loan_Amount_Term\n",
    "df_new['RatioIncomeAmount_per_term'] = df_new.ApplicantIncome/df_new.LoanAmount_per_term"
   ]
  },
  {
   "cell_type": "code",
   "execution_count": 31,
   "id": "b51bb249",
   "metadata": {
    "scrolled": true
   },
   "outputs": [
    {
     "data": {
      "text/html": [
       "<div>\n",
       "<style scoped>\n",
       "    .dataframe tbody tr th:only-of-type {\n",
       "        vertical-align: middle;\n",
       "    }\n",
       "\n",
       "    .dataframe tbody tr th {\n",
       "        vertical-align: top;\n",
       "    }\n",
       "\n",
       "    .dataframe thead th {\n",
       "        text-align: right;\n",
       "    }\n",
       "</style>\n",
       "<table border=\"1\" class=\"dataframe\">\n",
       "  <thead>\n",
       "    <tr style=\"text-align: right;\">\n",
       "      <th></th>\n",
       "      <th>Gender</th>\n",
       "      <th>Married</th>\n",
       "      <th>Dependents</th>\n",
       "      <th>Education</th>\n",
       "      <th>Self_Employed</th>\n",
       "      <th>ApplicantIncome</th>\n",
       "      <th>CoapplicantIncome</th>\n",
       "      <th>LoanAmount</th>\n",
       "      <th>Loan_Amount_Term</th>\n",
       "      <th>Credit_History</th>\n",
       "      <th>Property_Area</th>\n",
       "      <th>Loan_Status</th>\n",
       "      <th>LoanAmount_per_term</th>\n",
       "      <th>RatioIncomeAmount_per_term</th>\n",
       "    </tr>\n",
       "  </thead>\n",
       "  <tbody>\n",
       "    <tr>\n",
       "      <th>0</th>\n",
       "      <td>1</td>\n",
       "      <td>0</td>\n",
       "      <td>0.0</td>\n",
       "      <td>1</td>\n",
       "      <td>0</td>\n",
       "      <td>1316025.0</td>\n",
       "      <td>0.0</td>\n",
       "      <td>250000.0</td>\n",
       "      <td>360.0</td>\n",
       "      <td>1.0</td>\n",
       "      <td>2</td>\n",
       "      <td>1.0</td>\n",
       "      <td>694.444444</td>\n",
       "      <td>1895.076000</td>\n",
       "    </tr>\n",
       "    <tr>\n",
       "      <th>1</th>\n",
       "      <td>1</td>\n",
       "      <td>1</td>\n",
       "      <td>1.0</td>\n",
       "      <td>1</td>\n",
       "      <td>0</td>\n",
       "      <td>1031175.0</td>\n",
       "      <td>339300.0</td>\n",
       "      <td>256000.0</td>\n",
       "      <td>360.0</td>\n",
       "      <td>1.0</td>\n",
       "      <td>0</td>\n",
       "      <td>0.0</td>\n",
       "      <td>711.111111</td>\n",
       "      <td>1450.089844</td>\n",
       "    </tr>\n",
       "    <tr>\n",
       "      <th>2</th>\n",
       "      <td>1</td>\n",
       "      <td>1</td>\n",
       "      <td>0.0</td>\n",
       "      <td>1</td>\n",
       "      <td>1</td>\n",
       "      <td>675000.0</td>\n",
       "      <td>0.0</td>\n",
       "      <td>132000.0</td>\n",
       "      <td>360.0</td>\n",
       "      <td>1.0</td>\n",
       "      <td>2</td>\n",
       "      <td>1.0</td>\n",
       "      <td>366.666667</td>\n",
       "      <td>1840.909091</td>\n",
       "    </tr>\n",
       "    <tr>\n",
       "      <th>3</th>\n",
       "      <td>1</td>\n",
       "      <td>1</td>\n",
       "      <td>0.0</td>\n",
       "      <td>0</td>\n",
       "      <td>0</td>\n",
       "      <td>581175.0</td>\n",
       "      <td>530550.0</td>\n",
       "      <td>240000.0</td>\n",
       "      <td>360.0</td>\n",
       "      <td>1.0</td>\n",
       "      <td>2</td>\n",
       "      <td>1.0</td>\n",
       "      <td>666.666667</td>\n",
       "      <td>871.762500</td>\n",
       "    </tr>\n",
       "    <tr>\n",
       "      <th>4</th>\n",
       "      <td>1</td>\n",
       "      <td>0</td>\n",
       "      <td>0.0</td>\n",
       "      <td>1</td>\n",
       "      <td>0</td>\n",
       "      <td>1350000.0</td>\n",
       "      <td>0.0</td>\n",
       "      <td>282000.0</td>\n",
       "      <td>360.0</td>\n",
       "      <td>1.0</td>\n",
       "      <td>2</td>\n",
       "      <td>1.0</td>\n",
       "      <td>783.333333</td>\n",
       "      <td>1723.404255</td>\n",
       "    </tr>\n",
       "    <tr>\n",
       "      <th>...</th>\n",
       "      <td>...</td>\n",
       "      <td>...</td>\n",
       "      <td>...</td>\n",
       "      <td>...</td>\n",
       "      <td>...</td>\n",
       "      <td>...</td>\n",
       "      <td>...</td>\n",
       "      <td>...</td>\n",
       "      <td>...</td>\n",
       "      <td>...</td>\n",
       "      <td>...</td>\n",
       "      <td>...</td>\n",
       "      <td>...</td>\n",
       "      <td>...</td>\n",
       "    </tr>\n",
       "    <tr>\n",
       "      <th>88</th>\n",
       "      <td>0</td>\n",
       "      <td>0</td>\n",
       "      <td>0.0</td>\n",
       "      <td>1</td>\n",
       "      <td>0</td>\n",
       "      <td>652500.0</td>\n",
       "      <td>0.0</td>\n",
       "      <td>142000.0</td>\n",
       "      <td>360.0</td>\n",
       "      <td>1.0</td>\n",
       "      <td>0</td>\n",
       "      <td>NaN</td>\n",
       "      <td>394.444444</td>\n",
       "      <td>1654.225352</td>\n",
       "    </tr>\n",
       "    <tr>\n",
       "      <th>89</th>\n",
       "      <td>1</td>\n",
       "      <td>1</td>\n",
       "      <td>4.0</td>\n",
       "      <td>1</td>\n",
       "      <td>0</td>\n",
       "      <td>923850.0</td>\n",
       "      <td>0.0</td>\n",
       "      <td>80000.0</td>\n",
       "      <td>180.0</td>\n",
       "      <td>1.0</td>\n",
       "      <td>0</td>\n",
       "      <td>NaN</td>\n",
       "      <td>444.444444</td>\n",
       "      <td>2078.662500</td>\n",
       "    </tr>\n",
       "    <tr>\n",
       "      <th>90</th>\n",
       "      <td>1</td>\n",
       "      <td>1</td>\n",
       "      <td>1.0</td>\n",
       "      <td>1</td>\n",
       "      <td>0</td>\n",
       "      <td>1816200.0</td>\n",
       "      <td>54000.0</td>\n",
       "      <td>506000.0</td>\n",
       "      <td>360.0</td>\n",
       "      <td>1.0</td>\n",
       "      <td>2</td>\n",
       "      <td>NaN</td>\n",
       "      <td>1405.555556</td>\n",
       "      <td>1292.158103</td>\n",
       "    </tr>\n",
       "    <tr>\n",
       "      <th>91</th>\n",
       "      <td>1</td>\n",
       "      <td>1</td>\n",
       "      <td>2.0</td>\n",
       "      <td>1</td>\n",
       "      <td>0</td>\n",
       "      <td>1706175.0</td>\n",
       "      <td>0.0</td>\n",
       "      <td>374000.0</td>\n",
       "      <td>360.0</td>\n",
       "      <td>1.0</td>\n",
       "      <td>2</td>\n",
       "      <td>NaN</td>\n",
       "      <td>1038.888889</td>\n",
       "      <td>1642.307487</td>\n",
       "    </tr>\n",
       "    <tr>\n",
       "      <th>92</th>\n",
       "      <td>0</td>\n",
       "      <td>0</td>\n",
       "      <td>0.0</td>\n",
       "      <td>1</td>\n",
       "      <td>1</td>\n",
       "      <td>1031175.0</td>\n",
       "      <td>0.0</td>\n",
       "      <td>266000.0</td>\n",
       "      <td>360.0</td>\n",
       "      <td>0.0</td>\n",
       "      <td>1</td>\n",
       "      <td>NaN</td>\n",
       "      <td>738.888889</td>\n",
       "      <td>1395.575188</td>\n",
       "    </tr>\n",
       "  </tbody>\n",
       "</table>\n",
       "<p>531 rows × 14 columns</p>\n",
       "</div>"
      ],
      "text/plain": [
       "    Gender  Married  Dependents  Education  Self_Employed  ApplicantIncome  \\\n",
       "0        1        0         0.0          1              0        1316025.0   \n",
       "1        1        1         1.0          1              0        1031175.0   \n",
       "2        1        1         0.0          1              1         675000.0   \n",
       "3        1        1         0.0          0              0         581175.0   \n",
       "4        1        0         0.0          1              0        1350000.0   \n",
       "..     ...      ...         ...        ...            ...              ...   \n",
       "88       0        0         0.0          1              0         652500.0   \n",
       "89       1        1         4.0          1              0         923850.0   \n",
       "90       1        1         1.0          1              0        1816200.0   \n",
       "91       1        1         2.0          1              0        1706175.0   \n",
       "92       0        0         0.0          1              1        1031175.0   \n",
       "\n",
       "    CoapplicantIncome  LoanAmount  Loan_Amount_Term  Credit_History  \\\n",
       "0                 0.0    250000.0             360.0             1.0   \n",
       "1            339300.0    256000.0             360.0             1.0   \n",
       "2                 0.0    132000.0             360.0             1.0   \n",
       "3            530550.0    240000.0             360.0             1.0   \n",
       "4                 0.0    282000.0             360.0             1.0   \n",
       "..                ...         ...               ...             ...   \n",
       "88                0.0    142000.0             360.0             1.0   \n",
       "89                0.0     80000.0             180.0             1.0   \n",
       "90            54000.0    506000.0             360.0             1.0   \n",
       "91                0.0    374000.0             360.0             1.0   \n",
       "92                0.0    266000.0             360.0             0.0   \n",
       "\n",
       "    Property_Area  Loan_Status  LoanAmount_per_term  \\\n",
       "0               2          1.0           694.444444   \n",
       "1               0          0.0           711.111111   \n",
       "2               2          1.0           366.666667   \n",
       "3               2          1.0           666.666667   \n",
       "4               2          1.0           783.333333   \n",
       "..            ...          ...                  ...   \n",
       "88              0          NaN           394.444444   \n",
       "89              0          NaN           444.444444   \n",
       "90              2          NaN          1405.555556   \n",
       "91              2          NaN          1038.888889   \n",
       "92              1          NaN           738.888889   \n",
       "\n",
       "    RatioIncomeAmount_per_term  \n",
       "0                  1895.076000  \n",
       "1                  1450.089844  \n",
       "2                  1840.909091  \n",
       "3                   871.762500  \n",
       "4                  1723.404255  \n",
       "..                         ...  \n",
       "88                 1654.225352  \n",
       "89                 2078.662500  \n",
       "90                 1292.158103  \n",
       "91                 1642.307487  \n",
       "92                 1395.575188  \n",
       "\n",
       "[531 rows x 14 columns]"
      ]
     },
     "execution_count": 31,
     "metadata": {},
     "output_type": "execute_result"
    }
   ],
   "source": [
    "df_new"
   ]
  },
  {
   "cell_type": "code",
   "execution_count": 32,
   "id": "03fea206",
   "metadata": {},
   "outputs": [],
   "source": [
    "new_train = df_new.iloc[:521]\n",
    "new_test = df_new.iloc[521:]"
   ]
  },
  {
   "cell_type": "code",
   "execution_count": 33,
   "id": "8945aa1c",
   "metadata": {},
   "outputs": [
    {
     "data": {
      "image/png": "[encoded data removed]",
      "text/plain": [
       "<Figure size 432x288 with 1 Axes>"
      ]
     },
     "metadata": {
      "needs_background": "light"
     },
     "output_type": "display_data"
    },
    {
     "data": {
      "image/png": "[encoded data removed]",
      "text/plain": [
       "<Figure size 432x288 with 1 Axes>"
      ]
     },
     "metadata": {
      "needs_background": "light"
     },
     "output_type": "display_data"
    }
   ],
   "source": [
    "for col in ['LoanAmount_per_term', 'RatioIncomeAmount_per_term']:\n",
    "    plt.hist(new_train[col])\n",
    "    plt.show()"
   ]
  },
  {
   "cell_type": "code",
   "execution_count": 34,
   "id": "143c450e",
   "metadata": {},
   "outputs": [
    {
     "data": {
      "image/png": "[encoded data removed]",
      "text/plain": [
       "<Figure size 1080x720 with 1 Axes>"
      ]
     },
     "metadata": {
      "needs_background": "light"
     },
     "output_type": "display_data"
    }
   ],
   "source": [
    "plt.figure(figsize=(15,10))\n",
    "new_train.corr()['Loan_Status'].sort_values(ascending=False).drop(['Loan_Status']).plot(kind='bar', color='g')\n",
    "plt.xlabel(\"Feature\",fontsize=14)\n",
    "plt.ylabel(\"Loan_Status\",fontsize=14)\n",
    "plt.title(\"Correlation\",fontsize=18)\n",
    "plt.show()"
   ]
  },
  {
   "cell_type": "markdown",
   "id": "3139c755",
   "metadata": {},
   "source": [
    "Here it is observed that RatioIncomeAmount per term and LoanAmount per term are negatively correlated to Loan_Status.\n"
   ]
  },
  {
   "cell_type": "code",
   "execution_count": 35,
   "id": "bcd40068",
   "metadata": {},
   "outputs": [],
   "source": [
    "def correlation_with_target(data,t_col):\n",
    "    independent_variable = data.drop(t_col,axis=1).columns\n",
    "    corr_result = []\n",
    "    for col in independent_variable:\n",
    "        corr_result.append(data[t_col].corr(data[col]))\n",
    "    result = pd.DataFrame([independent_variable,corr_result],index=['Independent variables','Correlation']).T\n",
    "    return result.sort_values('Correlation',ascending = False)"
   ]
  },
  {
   "cell_type": "code",
   "execution_count": 36,
   "id": "08629c64",
   "metadata": {},
   "outputs": [
    {
     "data": {
      "text/html": [
       "<div>\n",
       "<style scoped>\n",
       "    .dataframe tbody tr th:only-of-type {\n",
       "        vertical-align: middle;\n",
       "    }\n",
       "\n",
       "    .dataframe tbody tr th {\n",
       "        vertical-align: top;\n",
       "    }\n",
       "\n",
       "    .dataframe thead th {\n",
       "        text-align: right;\n",
       "    }\n",
       "</style>\n",
       "<table border=\"1\" class=\"dataframe\">\n",
       "  <thead>\n",
       "    <tr style=\"text-align: right;\">\n",
       "      <th></th>\n",
       "      <th>Independent variables</th>\n",
       "      <th>Correlation</th>\n",
       "    </tr>\n",
       "  </thead>\n",
       "  <tbody>\n",
       "    <tr>\n",
       "      <th>9</th>\n",
       "      <td>Credit_History</td>\n",
       "      <td>0.526675</td>\n",
       "    </tr>\n",
       "    <tr>\n",
       "      <th>3</th>\n",
       "      <td>Education</td>\n",
       "      <td>0.106943</td>\n",
       "    </tr>\n",
       "    <tr>\n",
       "      <th>1</th>\n",
       "      <td>Married</td>\n",
       "      <td>0.093195</td>\n",
       "    </tr>\n",
       "    <tr>\n",
       "      <th>10</th>\n",
       "      <td>Property_Area</td>\n",
       "      <td>0.040831</td>\n",
       "    </tr>\n",
       "    <tr>\n",
       "      <th>0</th>\n",
       "      <td>Gender</td>\n",
       "      <td>0.020986</td>\n",
       "    </tr>\n",
       "    <tr>\n",
       "      <th>6</th>\n",
       "      <td>CoapplicantIncome</td>\n",
       "      <td>0.020957</td>\n",
       "    </tr>\n",
       "    <tr>\n",
       "      <th>11</th>\n",
       "      <td>LoanAmount_per_term</td>\n",
       "      <td>0.01213</td>\n",
       "    </tr>\n",
       "    <tr>\n",
       "      <th>2</th>\n",
       "      <td>Dependents</td>\n",
       "      <td>0.007448</td>\n",
       "    </tr>\n",
       "    <tr>\n",
       "      <th>4</th>\n",
       "      <td>Self_Employed</td>\n",
       "      <td>-0.000475</td>\n",
       "    </tr>\n",
       "    <tr>\n",
       "      <th>5</th>\n",
       "      <td>ApplicantIncome</td>\n",
       "      <td>-0.02543</td>\n",
       "    </tr>\n",
       "    <tr>\n",
       "      <th>12</th>\n",
       "      <td>RatioIncomeAmount_per_term</td>\n",
       "      <td>-0.040645</td>\n",
       "    </tr>\n",
       "    <tr>\n",
       "      <th>7</th>\n",
       "      <td>LoanAmount</td>\n",
       "      <td>-0.042641</td>\n",
       "    </tr>\n",
       "    <tr>\n",
       "      <th>8</th>\n",
       "      <td>Loan_Amount_Term</td>\n",
       "      <td>-0.054781</td>\n",
       "    </tr>\n",
       "  </tbody>\n",
       "</table>\n",
       "</div>"
      ],
      "text/plain": [
       "         Independent variables Correlation\n",
       "9               Credit_History    0.526675\n",
       "3                    Education    0.106943\n",
       "1                      Married    0.093195\n",
       "10               Property_Area    0.040831\n",
       "0                       Gender    0.020986\n",
       "6            CoapplicantIncome    0.020957\n",
       "11         LoanAmount_per_term     0.01213\n",
       "2                   Dependents    0.007448\n",
       "4                Self_Employed   -0.000475\n",
       "5              ApplicantIncome    -0.02543\n",
       "12  RatioIncomeAmount_per_term   -0.040645\n",
       "7                   LoanAmount   -0.042641\n",
       "8             Loan_Amount_Term   -0.054781"
      ]
     },
     "execution_count": 36,
     "metadata": {},
     "output_type": "execute_result"
    }
   ],
   "source": [
    "correlation_with_target(new_train,'Loan_Status')"
   ]
  },
  {
   "cell_type": "markdown",
   "id": "f6ab382d",
   "metadata": {},
   "source": [
    "### Multi collinearity test"
   ]
  },
  {
   "cell_type": "markdown",
   "id": "daecba67",
   "metadata": {},
   "source": [
    "1. Variance Inflation Factor.\n",
    "2. Let's check multicollinearity,\n",
    "to calculated VIF we can use the loop"
   ]
  },
  {
   "cell_type": "code",
   "execution_count": 37,
   "id": "ca3ec13f",
   "metadata": {},
   "outputs": [
    {
     "name": "stdout",
     "output_type": "stream",
     "text": [
      "R-Sqr value of Married is 0.7331545778662334\n",
      "VIF for Married is 3.75\n",
      "R-Sqr value of Dependents is 0.4010620174181624\n",
      "VIF for Dependents is 1.67\n",
      "R-Sqr value of Education is 0.8053125739960665\n",
      "VIF for Education is 5.14\n",
      "R-Sqr value of Self_Employed is 0.15995264755458727\n",
      "VIF for Self_Employed is 1.19\n",
      "R-Sqr value of ApplicantIncome is 0.8666293216211548\n",
      "VIF for ApplicantIncome is 7.5\n",
      "R-Sqr value of CoapplicantIncome is 0.6031686278578479\n",
      "VIF for CoapplicantIncome is 2.52\n",
      "R-Sqr value of LoanAmount is 0.9043279098107626\n",
      "VIF for LoanAmount is 10.45\n",
      "R-Sqr value of Loan_Amount_Term is 0.9185920170839309\n",
      "VIF for Loan_Amount_Term is 12.28\n",
      "R-Sqr value of Credit_History is 0.8473986696187433\n",
      "VIF for Credit_History is 6.55\n",
      "R-Sqr value of Property_Area is 0.6256907878787648\n",
      "VIF for Property_Area is 2.67\n"
     ]
    }
   ],
   "source": [
    "\n",
    "Default_indep=X\n",
    "VIF=[]\n",
    "\n",
    "import statsmodels.api as sm\n",
    "features=list(Default_indep.columns)\n",
    "for i in range(1, len(Default_indep.columns)):\n",
    "    x=Default_indep.loc[:,Default_indep.columns!=features[i]]\n",
    "    y=Default_indep.loc[:,Default_indep.columns==features[i]]\n",
    "    model=sm.OLS(y,x)\n",
    "    results=model.fit()\n",
    "\n",
    "    rsq=results.rsquared\n",
    "    vif=round(1/(1-rsq),2)\n",
    "    print (\"R-Sqr value of {} is {}\".format(features[i],rsq))\n",
    "    print ('VIF for {} is {}'.format(features[i],vif))\n",
    "    VIF.append(vif)"
   ]
  },
  {
   "cell_type": "markdown",
   "id": "c186b243",
   "metadata": {},
   "source": [
    "Even though the VIF for Dependents, Self_Employed is less due to less available data no feature is dropped."
   ]
  },
  {
   "cell_type": "code",
   "execution_count": 38,
   "id": "8db4cda9",
   "metadata": {},
   "outputs": [],
   "source": [
    "from sklearn.feature_selection import VarianceThreshold\n",
    "\n",
    "varselector= VarianceThreshold(threshold=0)\n",
    "varselector.fit_transform(new_train)\n",
    "# Get columns to keep and create new dataframe with those only\n",
    "cols = varselector.get_support(indices=True)\n",
    "df_final = df_new.iloc[:,cols]"
   ]
  },
  {
   "cell_type": "code",
   "execution_count": 39,
   "id": "4667b3c5",
   "metadata": {},
   "outputs": [
    {
     "data": {
      "text/html": [
       "<div>\n",
       "<style scoped>\n",
       "    .dataframe tbody tr th:only-of-type {\n",
       "        vertical-align: middle;\n",
       "    }\n",
       "\n",
       "    .dataframe tbody tr th {\n",
       "        vertical-align: top;\n",
       "    }\n",
       "\n",
       "    .dataframe thead th {\n",
       "        text-align: right;\n",
       "    }\n",
       "</style>\n",
       "<table border=\"1\" class=\"dataframe\">\n",
       "  <thead>\n",
       "    <tr style=\"text-align: right;\">\n",
       "      <th></th>\n",
       "      <th>Gender</th>\n",
       "      <th>Married</th>\n",
       "      <th>Dependents</th>\n",
       "      <th>Education</th>\n",
       "      <th>Self_Employed</th>\n",
       "      <th>ApplicantIncome</th>\n",
       "      <th>CoapplicantIncome</th>\n",
       "      <th>LoanAmount</th>\n",
       "      <th>Loan_Amount_Term</th>\n",
       "      <th>Credit_History</th>\n",
       "      <th>Property_Area</th>\n",
       "      <th>Loan_Status</th>\n",
       "      <th>LoanAmount_per_term</th>\n",
       "      <th>RatioIncomeAmount_per_term</th>\n",
       "    </tr>\n",
       "  </thead>\n",
       "  <tbody>\n",
       "    <tr>\n",
       "      <th>0</th>\n",
       "      <td>1</td>\n",
       "      <td>0</td>\n",
       "      <td>0.0</td>\n",
       "      <td>1</td>\n",
       "      <td>0</td>\n",
       "      <td>1316025.0</td>\n",
       "      <td>0.0</td>\n",
       "      <td>250000.0</td>\n",
       "      <td>360.0</td>\n",
       "      <td>1.0</td>\n",
       "      <td>2</td>\n",
       "      <td>1.0</td>\n",
       "      <td>694.444444</td>\n",
       "      <td>1895.076000</td>\n",
       "    </tr>\n",
       "    <tr>\n",
       "      <th>1</th>\n",
       "      <td>1</td>\n",
       "      <td>1</td>\n",
       "      <td>1.0</td>\n",
       "      <td>1</td>\n",
       "      <td>0</td>\n",
       "      <td>1031175.0</td>\n",
       "      <td>339300.0</td>\n",
       "      <td>256000.0</td>\n",
       "      <td>360.0</td>\n",
       "      <td>1.0</td>\n",
       "      <td>0</td>\n",
       "      <td>0.0</td>\n",
       "      <td>711.111111</td>\n",
       "      <td>1450.089844</td>\n",
       "    </tr>\n",
       "    <tr>\n",
       "      <th>2</th>\n",
       "      <td>1</td>\n",
       "      <td>1</td>\n",
       "      <td>0.0</td>\n",
       "      <td>1</td>\n",
       "      <td>1</td>\n",
       "      <td>675000.0</td>\n",
       "      <td>0.0</td>\n",
       "      <td>132000.0</td>\n",
       "      <td>360.0</td>\n",
       "      <td>1.0</td>\n",
       "      <td>2</td>\n",
       "      <td>1.0</td>\n",
       "      <td>366.666667</td>\n",
       "      <td>1840.909091</td>\n",
       "    </tr>\n",
       "    <tr>\n",
       "      <th>3</th>\n",
       "      <td>1</td>\n",
       "      <td>1</td>\n",
       "      <td>0.0</td>\n",
       "      <td>0</td>\n",
       "      <td>0</td>\n",
       "      <td>581175.0</td>\n",
       "      <td>530550.0</td>\n",
       "      <td>240000.0</td>\n",
       "      <td>360.0</td>\n",
       "      <td>1.0</td>\n",
       "      <td>2</td>\n",
       "      <td>1.0</td>\n",
       "      <td>666.666667</td>\n",
       "      <td>871.762500</td>\n",
       "    </tr>\n",
       "    <tr>\n",
       "      <th>4</th>\n",
       "      <td>1</td>\n",
       "      <td>0</td>\n",
       "      <td>0.0</td>\n",
       "      <td>1</td>\n",
       "      <td>0</td>\n",
       "      <td>1350000.0</td>\n",
       "      <td>0.0</td>\n",
       "      <td>282000.0</td>\n",
       "      <td>360.0</td>\n",
       "      <td>1.0</td>\n",
       "      <td>2</td>\n",
       "      <td>1.0</td>\n",
       "      <td>783.333333</td>\n",
       "      <td>1723.404255</td>\n",
       "    </tr>\n",
       "    <tr>\n",
       "      <th>...</th>\n",
       "      <td>...</td>\n",
       "      <td>...</td>\n",
       "      <td>...</td>\n",
       "      <td>...</td>\n",
       "      <td>...</td>\n",
       "      <td>...</td>\n",
       "      <td>...</td>\n",
       "      <td>...</td>\n",
       "      <td>...</td>\n",
       "      <td>...</td>\n",
       "      <td>...</td>\n",
       "      <td>...</td>\n",
       "      <td>...</td>\n",
       "      <td>...</td>\n",
       "    </tr>\n",
       "    <tr>\n",
       "      <th>88</th>\n",
       "      <td>0</td>\n",
       "      <td>0</td>\n",
       "      <td>0.0</td>\n",
       "      <td>1</td>\n",
       "      <td>0</td>\n",
       "      <td>652500.0</td>\n",
       "      <td>0.0</td>\n",
       "      <td>142000.0</td>\n",
       "      <td>360.0</td>\n",
       "      <td>1.0</td>\n",
       "      <td>0</td>\n",
       "      <td>NaN</td>\n",
       "      <td>394.444444</td>\n",
       "      <td>1654.225352</td>\n",
       "    </tr>\n",
       "    <tr>\n",
       "      <th>89</th>\n",
       "      <td>1</td>\n",
       "      <td>1</td>\n",
       "      <td>4.0</td>\n",
       "      <td>1</td>\n",
       "      <td>0</td>\n",
       "      <td>923850.0</td>\n",
       "      <td>0.0</td>\n",
       "      <td>80000.0</td>\n",
       "      <td>180.0</td>\n",
       "      <td>1.0</td>\n",
       "      <td>0</td>\n",
       "      <td>NaN</td>\n",
       "      <td>444.444444</td>\n",
       "      <td>2078.662500</td>\n",
       "    </tr>\n",
       "    <tr>\n",
       "      <th>90</th>\n",
       "      <td>1</td>\n",
       "      <td>1</td>\n",
       "      <td>1.0</td>\n",
       "      <td>1</td>\n",
       "      <td>0</td>\n",
       "      <td>1816200.0</td>\n",
       "      <td>54000.0</td>\n",
       "      <td>506000.0</td>\n",
       "      <td>360.0</td>\n",
       "      <td>1.0</td>\n",
       "      <td>2</td>\n",
       "      <td>NaN</td>\n",
       "      <td>1405.555556</td>\n",
       "      <td>1292.158103</td>\n",
       "    </tr>\n",
       "    <tr>\n",
       "      <th>91</th>\n",
       "      <td>1</td>\n",
       "      <td>1</td>\n",
       "      <td>2.0</td>\n",
       "      <td>1</td>\n",
       "      <td>0</td>\n",
       "      <td>1706175.0</td>\n",
       "      <td>0.0</td>\n",
       "      <td>374000.0</td>\n",
       "      <td>360.0</td>\n",
       "      <td>1.0</td>\n",
       "      <td>2</td>\n",
       "      <td>NaN</td>\n",
       "      <td>1038.888889</td>\n",
       "      <td>1642.307487</td>\n",
       "    </tr>\n",
       "    <tr>\n",
       "      <th>92</th>\n",
       "      <td>0</td>\n",
       "      <td>0</td>\n",
       "      <td>0.0</td>\n",
       "      <td>1</td>\n",
       "      <td>1</td>\n",
       "      <td>1031175.0</td>\n",
       "      <td>0.0</td>\n",
       "      <td>266000.0</td>\n",
       "      <td>360.0</td>\n",
       "      <td>0.0</td>\n",
       "      <td>1</td>\n",
       "      <td>NaN</td>\n",
       "      <td>738.888889</td>\n",
       "      <td>1395.575188</td>\n",
       "    </tr>\n",
       "  </tbody>\n",
       "</table>\n",
       "<p>531 rows × 14 columns</p>\n",
       "</div>"
      ],
      "text/plain": [
       "    Gender  Married  Dependents  Education  Self_Employed  ApplicantIncome  \\\n",
       "0        1        0         0.0          1              0        1316025.0   \n",
       "1        1        1         1.0          1              0        1031175.0   \n",
       "2        1        1         0.0          1              1         675000.0   \n",
       "3        1        1         0.0          0              0         581175.0   \n",
       "4        1        0         0.0          1              0        1350000.0   \n",
       "..     ...      ...         ...        ...            ...              ...   \n",
       "88       0        0         0.0          1              0         652500.0   \n",
       "89       1        1         4.0          1              0         923850.0   \n",
       "90       1        1         1.0          1              0        1816200.0   \n",
       "91       1        1         2.0          1              0        1706175.0   \n",
       "92       0        0         0.0          1              1        1031175.0   \n",
       "\n",
       "    CoapplicantIncome  LoanAmount  Loan_Amount_Term  Credit_History  \\\n",
       "0                 0.0    250000.0             360.0             1.0   \n",
       "1            339300.0    256000.0             360.0             1.0   \n",
       "2                 0.0    132000.0             360.0             1.0   \n",
       "3            530550.0    240000.0             360.0             1.0   \n",
       "4                 0.0    282000.0             360.0             1.0   \n",
       "..                ...         ...               ...             ...   \n",
       "88                0.0    142000.0             360.0             1.0   \n",
       "89                0.0     80000.0             180.0             1.0   \n",
       "90            54000.0    506000.0             360.0             1.0   \n",
       "91                0.0    374000.0             360.0             1.0   \n",
       "92                0.0    266000.0             360.0             0.0   \n",
       "\n",
       "    Property_Area  Loan_Status  LoanAmount_per_term  \\\n",
       "0               2          1.0           694.444444   \n",
       "1               0          0.0           711.111111   \n",
       "2               2          1.0           366.666667   \n",
       "3               2          1.0           666.666667   \n",
       "4               2          1.0           783.333333   \n",
       "..            ...          ...                  ...   \n",
       "88              0          NaN           394.444444   \n",
       "89              0          NaN           444.444444   \n",
       "90              2          NaN          1405.555556   \n",
       "91              2          NaN          1038.888889   \n",
       "92              1          NaN           738.888889   \n",
       "\n",
       "    RatioIncomeAmount_per_term  \n",
       "0                  1895.076000  \n",
       "1                  1450.089844  \n",
       "2                  1840.909091  \n",
       "3                   871.762500  \n",
       "4                  1723.404255  \n",
       "..                         ...  \n",
       "88                 1654.225352  \n",
       "89                 2078.662500  \n",
       "90                 1292.158103  \n",
       "91                 1642.307487  \n",
       "92                 1395.575188  \n",
       "\n",
       "[531 rows x 14 columns]"
      ]
     },
     "execution_count": 39,
     "metadata": {},
     "output_type": "execute_result"
    }
   ],
   "source": [
    "df_final"
   ]
  },
  {
   "cell_type": "markdown",
   "id": "fe64f197",
   "metadata": {},
   "source": [
    "### Skewed Distribution Treatment"
   ]
  },
  {
   "cell_type": "code",
   "execution_count": 40,
   "id": "d97613e9",
   "metadata": {},
   "outputs": [],
   "source": [
    "df_final.ApplicantIncome = np.sqrt(df_final.ApplicantIncome)\n",
    "df_final.CoapplicantIncome = np.sqrt(df_final.CoapplicantIncome)\n",
    "df_final.LoanAmount = np.sqrt(df_final.LoanAmount)\n",
    "df_final.LoanAmount_per_term = np.sqrt(df_final.LoanAmount_per_term)\n",
    "df_final.RatioIncomeAmount_per_term = np.sqrt(df_final.RatioIncomeAmount_per_term)"
   ]
  },
  {
   "cell_type": "code",
   "execution_count": 41,
   "id": "abb764cb",
   "metadata": {},
   "outputs": [
    {
     "data": {
      "text/plain": [
       "<AxesSubplot:xlabel='LoanAmount_per_term', ylabel='Count'>"
      ]
     },
     "execution_count": 41,
     "metadata": {},
     "output_type": "execute_result"
    },
    {
     "data": {
      "image/png": "[encoded data removed]",
      "text/plain": [
       "<Figure size 432x288 with 1 Axes>"
      ]
     },
     "metadata": {
      "needs_background": "light"
     },
     "output_type": "display_data"
    }
   ],
   "source": [
    "sns.histplot(df_final['LoanAmount_per_term'], kde=True)"
   ]
  },
  {
   "cell_type": "markdown",
   "id": "617966f5",
   "metadata": {},
   "source": [
    "### Normalization "
   ]
  },
  {
   "cell_type": "code",
   "execution_count": 42,
   "id": "8ab16411",
   "metadata": {},
   "outputs": [],
   "source": [
    "# normalize the data using Standard scalar\n",
    "\n",
    "from sklearn.preprocessing import StandardScaler\n",
    "scalar_ = StandardScaler()\n",
    "df_final['ApplicantIncome'] = scalar_.fit_transform(df_final[['ApplicantIncome']])\n",
    "df_final['CoapplicantIncome'] = scalar_.fit_transform(df_final[['CoapplicantIncome']])\n",
    "df_final['LoanAmount'] = scalar_.fit_transform(df_final[['LoanAmount']])\n",
    "df_final['Loan_Amount_Term'] = scalar_.fit_transform(df_final[['Loan_Amount_Term']])\n",
    "df_final['LoanAmount_per_term'] = scalar_.fit_transform(df_final[['LoanAmount_per_term']])\n",
    "df_final['RatioIncomeAmount_per_term'] = scalar_.fit_transform(df_final[['RatioIncomeAmount_per_term']])"
   ]
  },
  {
   "cell_type": "code",
   "execution_count": 43,
   "id": "c9608f7a",
   "metadata": {},
   "outputs": [
    {
     "data": {
      "text/html": [
       "<div>\n",
       "<style scoped>\n",
       "    .dataframe tbody tr th:only-of-type {\n",
       "        vertical-align: middle;\n",
       "    }\n",
       "\n",
       "    .dataframe tbody tr th {\n",
       "        vertical-align: top;\n",
       "    }\n",
       "\n",
       "    .dataframe thead th {\n",
       "        text-align: right;\n",
       "    }\n",
       "</style>\n",
       "<table border=\"1\" class=\"dataframe\">\n",
       "  <thead>\n",
       "    <tr style=\"text-align: right;\">\n",
       "      <th></th>\n",
       "      <th>Gender</th>\n",
       "      <th>Married</th>\n",
       "      <th>Dependents</th>\n",
       "      <th>Education</th>\n",
       "      <th>Self_Employed</th>\n",
       "      <th>ApplicantIncome</th>\n",
       "      <th>CoapplicantIncome</th>\n",
       "      <th>LoanAmount</th>\n",
       "      <th>Loan_Amount_Term</th>\n",
       "      <th>Credit_History</th>\n",
       "      <th>Property_Area</th>\n",
       "      <th>Loan_Status</th>\n",
       "      <th>LoanAmount_per_term</th>\n",
       "      <th>RatioIncomeAmount_per_term</th>\n",
       "    </tr>\n",
       "  </thead>\n",
       "  <tbody>\n",
       "    <tr>\n",
       "      <th>0</th>\n",
       "      <td>1</td>\n",
       "      <td>0</td>\n",
       "      <td>0.0</td>\n",
       "      <td>1</td>\n",
       "      <td>0</td>\n",
       "      <td>0.624796</td>\n",
       "      <td>-1.041395</td>\n",
       "      <td>0.022552</td>\n",
       "      <td>0.264422</td>\n",
       "      <td>1.0</td>\n",
       "      <td>2</td>\n",
       "      <td>1.0</td>\n",
       "      <td>-0.124608</td>\n",
       "      <td>0.050740</td>\n",
       "    </tr>\n",
       "    <tr>\n",
       "      <th>1</th>\n",
       "      <td>1</td>\n",
       "      <td>1</td>\n",
       "      <td>1.0</td>\n",
       "      <td>1</td>\n",
       "      <td>0</td>\n",
       "      <td>0.117229</td>\n",
       "      <td>0.439677</td>\n",
       "      <td>0.068913</td>\n",
       "      <td>0.264422</td>\n",
       "      <td>1.0</td>\n",
       "      <td>0</td>\n",
       "      <td>0.0</td>\n",
       "      <td>-0.092214</td>\n",
       "      <td>-0.107874</td>\n",
       "    </tr>\n",
       "    <tr>\n",
       "      <th>2</th>\n",
       "      <td>1</td>\n",
       "      <td>1</td>\n",
       "      <td>0.0</td>\n",
       "      <td>1</td>\n",
       "      <td>1</td>\n",
       "      <td>-0.629917</td>\n",
       "      <td>-1.041395</td>\n",
       "      <td>-1.039872</td>\n",
       "      <td>0.264422</td>\n",
       "      <td>1.0</td>\n",
       "      <td>2</td>\n",
       "      <td>1.0</td>\n",
       "      <td>-0.866963</td>\n",
       "      <td>0.032511</td>\n",
       "    </tr>\n",
       "    <tr>\n",
       "      <th>3</th>\n",
       "      <td>1</td>\n",
       "      <td>1</td>\n",
       "      <td>0.0</td>\n",
       "      <td>0</td>\n",
       "      <td>0</td>\n",
       "      <td>-0.858185</td>\n",
       "      <td>0.810632</td>\n",
       "      <td>-0.055971</td>\n",
       "      <td>0.264422</td>\n",
       "      <td>1.0</td>\n",
       "      <td>2</td>\n",
       "      <td>1.0</td>\n",
       "      <td>-0.179475</td>\n",
       "      <td>-0.356727</td>\n",
       "    </tr>\n",
       "    <tr>\n",
       "      <th>4</th>\n",
       "      <td>1</td>\n",
       "      <td>0</td>\n",
       "      <td>0.0</td>\n",
       "      <td>1</td>\n",
       "      <td>0</td>\n",
       "      <td>0.681496</td>\n",
       "      <td>-1.041395</td>\n",
       "      <td>0.263799</td>\n",
       "      <td>0.264422</td>\n",
       "      <td>1.0</td>\n",
       "      <td>2</td>\n",
       "      <td>1.0</td>\n",
       "      <td>0.043961</td>\n",
       "      <td>-0.007981</td>\n",
       "    </tr>\n",
       "    <tr>\n",
       "      <th>...</th>\n",
       "      <td>...</td>\n",
       "      <td>...</td>\n",
       "      <td>...</td>\n",
       "      <td>...</td>\n",
       "      <td>...</td>\n",
       "      <td>...</td>\n",
       "      <td>...</td>\n",
       "      <td>...</td>\n",
       "      <td>...</td>\n",
       "      <td>...</td>\n",
       "      <td>...</td>\n",
       "      <td>...</td>\n",
       "      <td>...</td>\n",
       "      <td>...</td>\n",
       "    </tr>\n",
       "    <tr>\n",
       "      <th>88</th>\n",
       "      <td>0</td>\n",
       "      <td>0</td>\n",
       "      <td>0.0</td>\n",
       "      <td>1</td>\n",
       "      <td>0</td>\n",
       "      <td>-0.683131</td>\n",
       "      <td>-1.041395</td>\n",
       "      <td>-0.934853</td>\n",
       "      <td>0.264422</td>\n",
       "      <td>1.0</td>\n",
       "      <td>0</td>\n",
       "      <td>NaN</td>\n",
       "      <td>-0.793582</td>\n",
       "      <td>-0.032467</td>\n",
       "    </tr>\n",
       "    <tr>\n",
       "      <th>89</th>\n",
       "      <td>1</td>\n",
       "      <td>1</td>\n",
       "      <td>4.0</td>\n",
       "      <td>1</td>\n",
       "      <td>0</td>\n",
       "      <td>-0.092007</td>\n",
       "      <td>-1.041395</td>\n",
       "      <td>-1.665404</td>\n",
       "      <td>-2.593269</td>\n",
       "      <td>1.0</td>\n",
       "      <td>0</td>\n",
       "      <td>NaN</td>\n",
       "      <td>-0.667734</td>\n",
       "      <td>0.110663</td>\n",
       "    </tr>\n",
       "    <tr>\n",
       "      <th>90</th>\n",
       "      <td>1</td>\n",
       "      <td>1</td>\n",
       "      <td>1.0</td>\n",
       "      <td>1</td>\n",
       "      <td>0</td>\n",
       "      <td>1.397372</td>\n",
       "      <td>-0.450540</td>\n",
       "      <td>1.665265</td>\n",
       "      <td>0.264422</td>\n",
       "      <td>1.0</td>\n",
       "      <td>2</td>\n",
       "      <td>NaN</td>\n",
       "      <td>1.023217</td>\n",
       "      <td>-0.169937</td>\n",
       "    </tr>\n",
       "    <tr>\n",
       "      <th>91</th>\n",
       "      <td>1</td>\n",
       "      <td>1</td>\n",
       "      <td>2.0</td>\n",
       "      <td>1</td>\n",
       "      <td>0</td>\n",
       "      <td>1.237609</td>\n",
       "      <td>-1.041395</td>\n",
       "      <td>0.889668</td>\n",
       "      <td>0.264422</td>\n",
       "      <td>1.0</td>\n",
       "      <td>2</td>\n",
       "      <td>NaN</td>\n",
       "      <td>0.481278</td>\n",
       "      <td>-0.036737</td>\n",
       "    </tr>\n",
       "    <tr>\n",
       "      <th>92</th>\n",
       "      <td>0</td>\n",
       "      <td>0</td>\n",
       "      <td>0.0</td>\n",
       "      <td>1</td>\n",
       "      <td>1</td>\n",
       "      <td>0.117229</td>\n",
       "      <td>-1.041395</td>\n",
       "      <td>0.144991</td>\n",
       "      <td>0.264422</td>\n",
       "      <td>0.0</td>\n",
       "      <td>1</td>\n",
       "      <td>NaN</td>\n",
       "      <td>-0.039055</td>\n",
       "      <td>-0.128896</td>\n",
       "    </tr>\n",
       "  </tbody>\n",
       "</table>\n",
       "<p>531 rows × 14 columns</p>\n",
       "</div>"
      ],
      "text/plain": [
       "    Gender  Married  Dependents  Education  Self_Employed  ApplicantIncome  \\\n",
       "0        1        0         0.0          1              0         0.624796   \n",
       "1        1        1         1.0          1              0         0.117229   \n",
       "2        1        1         0.0          1              1        -0.629917   \n",
       "3        1        1         0.0          0              0        -0.858185   \n",
       "4        1        0         0.0          1              0         0.681496   \n",
       "..     ...      ...         ...        ...            ...              ...   \n",
       "88       0        0         0.0          1              0        -0.683131   \n",
       "89       1        1         4.0          1              0        -0.092007   \n",
       "90       1        1         1.0          1              0         1.397372   \n",
       "91       1        1         2.0          1              0         1.237609   \n",
       "92       0        0         0.0          1              1         0.117229   \n",
       "\n",
       "    CoapplicantIncome  LoanAmount  Loan_Amount_Term  Credit_History  \\\n",
       "0           -1.041395    0.022552          0.264422             1.0   \n",
       "1            0.439677    0.068913          0.264422             1.0   \n",
       "2           -1.041395   -1.039872          0.264422             1.0   \n",
       "3            0.810632   -0.055971          0.264422             1.0   \n",
       "4           -1.041395    0.263799          0.264422             1.0   \n",
       "..                ...         ...               ...             ...   \n",
       "88          -1.041395   -0.934853          0.264422             1.0   \n",
       "89          -1.041395   -1.665404         -2.593269             1.0   \n",
       "90          -0.450540    1.665265          0.264422             1.0   \n",
       "91          -1.041395    0.889668          0.264422             1.0   \n",
       "92          -1.041395    0.144991          0.264422             0.0   \n",
       "\n",
       "    Property_Area  Loan_Status  LoanAmount_per_term  \\\n",
       "0               2          1.0            -0.124608   \n",
       "1               0          0.0            -0.092214   \n",
       "2               2          1.0            -0.866963   \n",
       "3               2          1.0            -0.179475   \n",
       "4               2          1.0             0.043961   \n",
       "..            ...          ...                  ...   \n",
       "88              0          NaN            -0.793582   \n",
       "89              0          NaN            -0.667734   \n",
       "90              2          NaN             1.023217   \n",
       "91              2          NaN             0.481278   \n",
       "92              1          NaN            -0.039055   \n",
       "\n",
       "    RatioIncomeAmount_per_term  \n",
       "0                     0.050740  \n",
       "1                    -0.107874  \n",
       "2                     0.032511  \n",
       "3                    -0.356727  \n",
       "4                    -0.007981  \n",
       "..                         ...  \n",
       "88                   -0.032467  \n",
       "89                    0.110663  \n",
       "90                   -0.169937  \n",
       "91                   -0.036737  \n",
       "92                   -0.128896  \n",
       "\n",
       "[531 rows x 14 columns]"
      ]
     },
     "execution_count": 43,
     "metadata": {},
     "output_type": "execute_result"
    }
   ],
   "source": [
    "df_final"
   ]
  },
  {
   "cell_type": "code",
   "execution_count": 44,
   "id": "eb6cffbc",
   "metadata": {},
   "outputs": [],
   "source": [
    "new_train = df_final.iloc[:521]\n",
    "new_test = df_final.iloc[521:]"
   ]
  },
  {
   "cell_type": "code",
   "execution_count": 45,
   "id": "f53f3c12",
   "metadata": {},
   "outputs": [],
   "source": [
    "new_test.drop(\"Loan_Status\",axis=1,inplace=True) "
   ]
  },
  {
   "cell_type": "code",
   "execution_count": 46,
   "id": "e23c6ca4",
   "metadata": {},
   "outputs": [
    {
     "data": {
      "text/html": [
       "<div>\n",
       "<style scoped>\n",
       "    .dataframe tbody tr th:only-of-type {\n",
       "        vertical-align: middle;\n",
       "    }\n",
       "\n",
       "    .dataframe tbody tr th {\n",
       "        vertical-align: top;\n",
       "    }\n",
       "\n",
       "    .dataframe thead th {\n",
       "        text-align: right;\n",
       "    }\n",
       "</style>\n",
       "<table border=\"1\" class=\"dataframe\">\n",
       "  <thead>\n",
       "    <tr style=\"text-align: right;\">\n",
       "      <th></th>\n",
       "      <th>Gender</th>\n",
       "      <th>Married</th>\n",
       "      <th>Dependents</th>\n",
       "      <th>Education</th>\n",
       "      <th>Self_Employed</th>\n",
       "      <th>ApplicantIncome</th>\n",
       "      <th>CoapplicantIncome</th>\n",
       "      <th>LoanAmount</th>\n",
       "      <th>Loan_Amount_Term</th>\n",
       "      <th>Credit_History</th>\n",
       "      <th>Property_Area</th>\n",
       "      <th>LoanAmount_per_term</th>\n",
       "      <th>RatioIncomeAmount_per_term</th>\n",
       "    </tr>\n",
       "  </thead>\n",
       "  <tbody>\n",
       "    <tr>\n",
       "      <th>83</th>\n",
       "      <td>0</td>\n",
       "      <td>1</td>\n",
       "      <td>1.0</td>\n",
       "      <td>1</td>\n",
       "      <td>0</td>\n",
       "      <td>1.997830</td>\n",
       "      <td>-1.041395</td>\n",
       "      <td>1.673454</td>\n",
       "      <td>0.264422</td>\n",
       "      <td>1.0</td>\n",
       "      <td>1</td>\n",
       "      <td>1.028939</td>\n",
       "      <td>-0.050756</td>\n",
       "    </tr>\n",
       "    <tr>\n",
       "      <th>84</th>\n",
       "      <td>1</td>\n",
       "      <td>1</td>\n",
       "      <td>0.0</td>\n",
       "      <td>0</td>\n",
       "      <td>0</td>\n",
       "      <td>-0.964164</td>\n",
       "      <td>1.309684</td>\n",
       "      <td>-3.190772</td>\n",
       "      <td>-2.593269</td>\n",
       "      <td>1.0</td>\n",
       "      <td>2</td>\n",
       "      <td>-2.175047</td>\n",
       "      <td>2.096084</td>\n",
       "    </tr>\n",
       "    <tr>\n",
       "      <th>85</th>\n",
       "      <td>1</td>\n",
       "      <td>1</td>\n",
       "      <td>1.0</td>\n",
       "      <td>1</td>\n",
       "      <td>0</td>\n",
       "      <td>-0.425451</td>\n",
       "      <td>0.865582</td>\n",
       "      <td>0.708264</td>\n",
       "      <td>0.264422</td>\n",
       "      <td>1.0</td>\n",
       "      <td>1</td>\n",
       "      <td>0.354525</td>\n",
       "      <td>-0.394922</td>\n",
       "    </tr>\n",
       "    <tr>\n",
       "      <th>86</th>\n",
       "      <td>1</td>\n",
       "      <td>1</td>\n",
       "      <td>2.0</td>\n",
       "      <td>0</td>\n",
       "      <td>0</td>\n",
       "      <td>-0.146076</td>\n",
       "      <td>0.391251</td>\n",
       "      <td>0.491705</td>\n",
       "      <td>0.264422</td>\n",
       "      <td>1.0</td>\n",
       "      <td>0</td>\n",
       "      <td>0.203207</td>\n",
       "      <td>-0.282705</td>\n",
       "    </tr>\n",
       "    <tr>\n",
       "      <th>87</th>\n",
       "      <td>1</td>\n",
       "      <td>1</td>\n",
       "      <td>0.0</td>\n",
       "      <td>1</td>\n",
       "      <td>0</td>\n",
       "      <td>-0.509777</td>\n",
       "      <td>0.642802</td>\n",
       "      <td>-0.251383</td>\n",
       "      <td>0.264422</td>\n",
       "      <td>1.0</td>\n",
       "      <td>0</td>\n",
       "      <td>-0.316016</td>\n",
       "      <td>-0.202891</td>\n",
       "    </tr>\n",
       "    <tr>\n",
       "      <th>88</th>\n",
       "      <td>0</td>\n",
       "      <td>0</td>\n",
       "      <td>0.0</td>\n",
       "      <td>1</td>\n",
       "      <td>0</td>\n",
       "      <td>-0.683131</td>\n",
       "      <td>-1.041395</td>\n",
       "      <td>-0.934853</td>\n",
       "      <td>0.264422</td>\n",
       "      <td>1.0</td>\n",
       "      <td>0</td>\n",
       "      <td>-0.793582</td>\n",
       "      <td>-0.032467</td>\n",
       "    </tr>\n",
       "    <tr>\n",
       "      <th>89</th>\n",
       "      <td>1</td>\n",
       "      <td>1</td>\n",
       "      <td>4.0</td>\n",
       "      <td>1</td>\n",
       "      <td>0</td>\n",
       "      <td>-0.092007</td>\n",
       "      <td>-1.041395</td>\n",
       "      <td>-1.665404</td>\n",
       "      <td>-2.593269</td>\n",
       "      <td>1.0</td>\n",
       "      <td>0</td>\n",
       "      <td>-0.667734</td>\n",
       "      <td>0.110663</td>\n",
       "    </tr>\n",
       "    <tr>\n",
       "      <th>90</th>\n",
       "      <td>1</td>\n",
       "      <td>1</td>\n",
       "      <td>1.0</td>\n",
       "      <td>1</td>\n",
       "      <td>0</td>\n",
       "      <td>1.397372</td>\n",
       "      <td>-0.450540</td>\n",
       "      <td>1.665265</td>\n",
       "      <td>0.264422</td>\n",
       "      <td>1.0</td>\n",
       "      <td>2</td>\n",
       "      <td>1.023217</td>\n",
       "      <td>-0.169937</td>\n",
       "    </tr>\n",
       "    <tr>\n",
       "      <th>91</th>\n",
       "      <td>1</td>\n",
       "      <td>1</td>\n",
       "      <td>2.0</td>\n",
       "      <td>1</td>\n",
       "      <td>0</td>\n",
       "      <td>1.237609</td>\n",
       "      <td>-1.041395</td>\n",
       "      <td>0.889668</td>\n",
       "      <td>0.264422</td>\n",
       "      <td>1.0</td>\n",
       "      <td>2</td>\n",
       "      <td>0.481278</td>\n",
       "      <td>-0.036737</td>\n",
       "    </tr>\n",
       "    <tr>\n",
       "      <th>92</th>\n",
       "      <td>0</td>\n",
       "      <td>0</td>\n",
       "      <td>0.0</td>\n",
       "      <td>1</td>\n",
       "      <td>1</td>\n",
       "      <td>0.117229</td>\n",
       "      <td>-1.041395</td>\n",
       "      <td>0.144991</td>\n",
       "      <td>0.264422</td>\n",
       "      <td>0.0</td>\n",
       "      <td>1</td>\n",
       "      <td>-0.039055</td>\n",
       "      <td>-0.128896</td>\n",
       "    </tr>\n",
       "  </tbody>\n",
       "</table>\n",
       "</div>"
      ],
      "text/plain": [
       "    Gender  Married  Dependents  Education  Self_Employed  ApplicantIncome  \\\n",
       "83       0        1         1.0          1              0         1.997830   \n",
       "84       1        1         0.0          0              0        -0.964164   \n",
       "85       1        1         1.0          1              0        -0.425451   \n",
       "86       1        1         2.0          0              0        -0.146076   \n",
       "87       1        1         0.0          1              0        -0.509777   \n",
       "88       0        0         0.0          1              0        -0.683131   \n",
       "89       1        1         4.0          1              0        -0.092007   \n",
       "90       1        1         1.0          1              0         1.397372   \n",
       "91       1        1         2.0          1              0         1.237609   \n",
       "92       0        0         0.0          1              1         0.117229   \n",
       "\n",
       "    CoapplicantIncome  LoanAmount  Loan_Amount_Term  Credit_History  \\\n",
       "83          -1.041395    1.673454          0.264422             1.0   \n",
       "84           1.309684   -3.190772         -2.593269             1.0   \n",
       "85           0.865582    0.708264          0.264422             1.0   \n",
       "86           0.391251    0.491705          0.264422             1.0   \n",
       "87           0.642802   -0.251383          0.264422             1.0   \n",
       "88          -1.041395   -0.934853          0.264422             1.0   \n",
       "89          -1.041395   -1.665404         -2.593269             1.0   \n",
       "90          -0.450540    1.665265          0.264422             1.0   \n",
       "91          -1.041395    0.889668          0.264422             1.0   \n",
       "92          -1.041395    0.144991          0.264422             0.0   \n",
       "\n",
       "    Property_Area  LoanAmount_per_term  RatioIncomeAmount_per_term  \n",
       "83              1             1.028939                   -0.050756  \n",
       "84              2            -2.175047                    2.096084  \n",
       "85              1             0.354525                   -0.394922  \n",
       "86              0             0.203207                   -0.282705  \n",
       "87              0            -0.316016                   -0.202891  \n",
       "88              0            -0.793582                   -0.032467  \n",
       "89              0            -0.667734                    0.110663  \n",
       "90              2             1.023217                   -0.169937  \n",
       "91              2             0.481278                   -0.036737  \n",
       "92              1            -0.039055                   -0.128896  "
      ]
     },
     "execution_count": 46,
     "metadata": {},
     "output_type": "execute_result"
    }
   ],
   "source": [
    "new_test "
   ]
  },
  {
   "cell_type": "markdown",
   "id": "9f4b4943",
   "metadata": {},
   "source": [
    "## Model Building"
   ]
  },
  {
   "cell_type": "markdown",
   "id": "097766b8",
   "metadata": {},
   "source": [
    "### Splitting the data "
   ]
  },
  {
   "cell_type": "code",
   "execution_count": 47,
   "id": "c1c5ecda",
   "metadata": {},
   "outputs": [],
   "source": [
    "X = new_train.drop('Loan_Status', axis = 1)\n",
    "y = new_train['Loan_Status']"
   ]
  },
  {
   "cell_type": "code",
   "execution_count": 48,
   "id": "25452963",
   "metadata": {},
   "outputs": [],
   "source": [
    "from sklearn.model_selection import train_test_split\n",
    "from sklearn.metrics import confusion_matrix, accuracy_score, classification_report"
   ]
  },
  {
   "cell_type": "code",
   "execution_count": 49,
   "id": "744adcc1",
   "metadata": {},
   "outputs": [
    {
     "name": "stdout",
     "output_type": "stream",
     "text": [
      "Best accuracy is  0.8778625954198473  on random_state  267\n"
     ]
    }
   ],
   "source": [
    "#finding best random_state\n",
    "from sklearn.linear_model import LogisticRegression\n",
    "maxAccu=0\n",
    "maxRS=0\n",
    "for i in range(0,500):\n",
    "    X_train,X_test,y_train,y_test=train_test_split(X,y,test_size=0.25,random_state=i)\n",
    "    LR=LogisticRegression()\n",
    "    LR.fit(X_train,y_train)\n",
    "    pred=LR.predict(X_test)\n",
    "    acc=accuracy_score(y_test,pred)\n",
    "    if acc>maxAccu:\n",
    "        maxAccu=acc\n",
    "        maxRS=i\n",
    "print(\"Best accuracy is \",maxAccu,\" on random_state \",maxRS)"
   ]
  },
  {
   "cell_type": "code",
   "execution_count": 50,
   "id": "79fed97b",
   "metadata": {},
   "outputs": [],
   "source": [
    "X_train, X_test, y_train, y_test = train_test_split(X, y, test_size= 0.25, random_state = 267)"
   ]
  },
  {
   "cell_type": "markdown",
   "id": "8e24a0a2",
   "metadata": {},
   "source": [
    "## Classification Algorithms"
   ]
  },
  {
   "cell_type": "markdown",
   "id": "fd7a1c29",
   "metadata": {},
   "source": [
    "### Logistic Regression"
   ]
  },
  {
   "cell_type": "code",
   "execution_count": 51,
   "id": "91f71532",
   "metadata": {},
   "outputs": [],
   "source": [
    "from sklearn.linear_model import LogisticRegression\n",
    "lr= LogisticRegression()\n",
    "lr.fit(X_train, y_train)\n",
    "\n",
    "y_pred_lr =  lr.predict(X_test)"
   ]
  },
  {
   "cell_type": "code",
   "execution_count": 52,
   "id": "651473f8",
   "metadata": {},
   "outputs": [],
   "source": [
    "from sklearn import metrics\n",
    "from sklearn.metrics import confusion_matrix"
   ]
  },
  {
   "cell_type": "code",
   "execution_count": 53,
   "id": "dc643778",
   "metadata": {},
   "outputs": [
    {
     "name": "stdout",
     "output_type": "stream",
     "text": [
      "Accuracy: 0.8778625954198473\n",
      "Precision 0.8623853211009175\n",
      "Recall 0.9894736842105263\n",
      "f1_score 0.9215686274509803\n"
     ]
    }
   ],
   "source": [
    "print(\"Accuracy:\",metrics.accuracy_score(y_test, y_pred_lr))\n",
    "print(\"Precision\",metrics.precision_score(y_test,y_pred_lr))\n",
    "print(\"Recall\",metrics.recall_score(y_test,y_pred_lr))\n",
    "print(\"f1_score\",metrics.f1_score(y_test,y_pred_lr))"
   ]
  },
  {
   "cell_type": "code",
   "execution_count": 54,
   "id": "153f48b7",
   "metadata": {},
   "outputs": [
    {
     "name": "stdout",
     "output_type": "stream",
     "text": [
      "Accuracy: 0.7769230769230769\n",
      "Precision 0.7682926829268293\n",
      "Recall 0.9581749049429658\n",
      "f1_score 0.8527918781725888\n"
     ]
    }
   ],
   "source": [
    "y_pred_lr =  lr.predict(X_train)\n",
    "print(\"Accuracy:\",metrics.accuracy_score(y_train, y_pred_lr))\n",
    "print(\"Precision\",metrics.precision_score(y_train,y_pred_lr))\n",
    "print(\"Recall\",metrics.recall_score(y_train,y_pred_lr))\n",
    "print(\"f1_score\",metrics.f1_score(y_train,y_pred_lr))"
   ]
  },
  {
   "cell_type": "code",
   "execution_count": 55,
   "id": "3042d201",
   "metadata": {},
   "outputs": [
    {
     "data": {
      "text/plain": [
       "<sklearn.metrics._plot.confusion_matrix.ConfusionMatrixDisplay at 0x2c36282e250>"
      ]
     },
     "execution_count": 55,
     "metadata": {},
     "output_type": "execute_result"
    },
    {
     "data": {
      "image/png": "[encoded data removed]",
      "text/plain": [
       "<Figure size 432x288 with 2 Axes>"
      ]
     },
     "metadata": {
      "needs_background": "light"
     },
     "output_type": "display_data"
    }
   ],
   "source": [
    "metrics.plot_confusion_matrix(lr,X,y)"
   ]
  },
  {
   "cell_type": "markdown",
   "id": "cacd9e06",
   "metadata": {},
   "source": [
    "### Decision tree "
   ]
  },
  {
   "cell_type": "code",
   "execution_count": 56,
   "id": "132878f8",
   "metadata": {},
   "outputs": [],
   "source": [
    "# Building a Decision Tree Model\n",
    "from sklearn.tree import DecisionTreeClassifier\n",
    "dtree=DecisionTreeClassifier()\n",
    "dtree.fit(X_train,y_train)\n",
    "\n",
    "y_pred_tree=dtree.predict(X_test)"
   ]
  },
  {
   "cell_type": "code",
   "execution_count": 57,
   "id": "14ac73ba",
   "metadata": {},
   "outputs": [
    {
     "name": "stdout",
     "output_type": "stream",
     "text": [
      "Accuracy: 0.6106870229007634\n",
      "Precision 0.7972972972972973\n",
      "Recall 0.6210526315789474\n",
      "f1_score 0.6982248520710059\n"
     ]
    }
   ],
   "source": [
    "print(\"Accuracy:\",metrics.accuracy_score(y_test, y_pred_tree))\n",
    "print(\"Precision\",metrics.precision_score(y_test,y_pred_tree))\n",
    "print(\"Recall\",metrics.recall_score(y_test,y_pred_tree))\n",
    "print(\"f1_score\",metrics.f1_score(y_test,y_pred_tree))"
   ]
  },
  {
   "cell_type": "code",
   "execution_count": 58,
   "id": "7413d1af",
   "metadata": {},
   "outputs": [
    {
     "name": "stdout",
     "output_type": "stream",
     "text": [
      "Accuracy: 1.0\n",
      "Precision 1.0\n",
      "Recall 1.0\n",
      "f1_score 1.0\n"
     ]
    }
   ],
   "source": [
    "y_pred_tree=dtree.predict(X_train)\n",
    "print(\"Accuracy:\",metrics.accuracy_score(y_train, y_pred_tree))\n",
    "print(\"Precision\",metrics.precision_score(y_train,y_pred_tree))\n",
    "print(\"Recall\",metrics.recall_score(y_train,y_pred_tree))\n",
    "print(\"f1_score\",metrics.f1_score(y_train,y_pred_tree))"
   ]
  },
  {
   "cell_type": "code",
   "execution_count": 59,
   "id": "1086e0f1",
   "metadata": {},
   "outputs": [
    {
     "data": {
      "text/plain": [
       "<sklearn.metrics._plot.confusion_matrix.ConfusionMatrixDisplay at 0x2c36090f940>"
      ]
     },
     "execution_count": 59,
     "metadata": {},
     "output_type": "execute_result"
    },
    {
     "data": {
      "image/png": "[encoded data removed]",
      "text/plain": [
       "<Figure size 432x288 with 2 Axes>"
      ]
     },
     "metadata": {
      "needs_background": "light"
     },
     "output_type": "display_data"
    }
   ],
   "source": [
    "metrics.plot_confusion_matrix(dtree,X,y)"
   ]
  },
  {
   "cell_type": "markdown",
   "id": "3d4e9cd9",
   "metadata": {},
   "source": [
    "### Random Forest Classifier"
   ]
  },
  {
   "cell_type": "code",
   "execution_count": 60,
   "id": "848d19ea",
   "metadata": {},
   "outputs": [],
   "source": [
    "# Building a Random Forest Model\n",
    "from sklearn.ensemble import RandomForestClassifier\n",
    "rf=RandomForestClassifier()\n",
    "rf.fit(X_train,y_train)\n",
    "\n",
    "y_pred_rf=rf.predict(X_test)"
   ]
  },
  {
   "cell_type": "code",
   "execution_count": 61,
   "id": "0b92208c",
   "metadata": {},
   "outputs": [
    {
     "name": "stdout",
     "output_type": "stream",
     "text": [
      "Accuracy: 0.8091603053435115\n",
      "Precision 0.8571428571428571\n",
      "Recall 0.8842105263157894\n",
      "f1_score 0.8704663212435233\n"
     ]
    }
   ],
   "source": [
    "print(\"Accuracy:\",metrics.accuracy_score(y_test, y_pred_rf))\n",
    "print(\"Precision\",metrics.precision_score(y_test,y_pred_rf))\n",
    "print(\"Recall\",metrics.recall_score(y_test,y_pred_rf))\n",
    "print(\"f1_score\",metrics.f1_score(y_test,y_pred_rf))"
   ]
  },
  {
   "cell_type": "code",
   "execution_count": 62,
   "id": "de32870b",
   "metadata": {},
   "outputs": [
    {
     "name": "stdout",
     "output_type": "stream",
     "text": [
      "Accuracy: 1.0\n",
      "Precision 1.0\n",
      "Recall 1.0\n",
      "f1_score 1.0\n"
     ]
    }
   ],
   "source": [
    "y_pred_rf=rf.predict(X_train)\n",
    "print(\"Accuracy:\",metrics.accuracy_score(y_train, y_pred_rf))\n",
    "print(\"Precision\",metrics.precision_score(y_train,y_pred_rf))\n",
    "print(\"Recall\",metrics.recall_score(y_train,y_pred_rf))\n",
    "print(\"f1_score\",metrics.f1_score(y_train,y_pred_rf))"
   ]
  },
  {
   "cell_type": "code",
   "execution_count": 63,
   "id": "e4d1a8a7",
   "metadata": {},
   "outputs": [
    {
     "data": {
      "text/plain": [
       "<sklearn.metrics._plot.confusion_matrix.ConfusionMatrixDisplay at 0x2c3579a91f0>"
      ]
     },
     "execution_count": 63,
     "metadata": {},
     "output_type": "execute_result"
    },
    {
     "data": {
      "image/png": "[encoded data removed]",
      "text/plain": [
       "<Figure size 432x288 with 2 Axes>"
      ]
     },
     "metadata": {
      "needs_background": "light"
     },
     "output_type": "display_data"
    }
   ],
   "source": [
    "metrics.plot_confusion_matrix(rf,X,y)"
   ]
  },
  {
   "cell_type": "markdown",
   "id": "c3a377ea",
   "metadata": {},
   "source": [
    "### Gradient Boosting"
   ]
  },
  {
   "cell_type": "code",
   "execution_count": 64,
   "id": "cde744c5",
   "metadata": {},
   "outputs": [],
   "source": [
    "# Building a Gradient Boosting Model\n",
    "from sklearn.ensemble import GradientBoostingClassifier\n",
    "gbm=GradientBoostingClassifier()\n",
    "gbm.fit(X_train,y_train)\n",
    "\n",
    "y_pred_gbm=gbm.predict(X_test)"
   ]
  },
  {
   "cell_type": "code",
   "execution_count": 65,
   "id": "dcc16d60",
   "metadata": {},
   "outputs": [
    {
     "name": "stdout",
     "output_type": "stream",
     "text": [
      "Accuracy: 0.8549618320610687\n",
      "Precision 0.8725490196078431\n",
      "Recall 0.9368421052631579\n",
      "f1_score 0.9035532994923857\n"
     ]
    }
   ],
   "source": [
    "print(\"Accuracy:\",metrics.accuracy_score(y_test, y_pred_gbm))\n",
    "print(\"Precision\",metrics.precision_score(y_test,y_pred_gbm))\n",
    "print(\"Recall\",metrics.recall_score(y_test,y_pred_gbm))\n",
    "print(\"f1_score\",metrics.f1_score(y_test,y_pred_gbm))"
   ]
  },
  {
   "cell_type": "code",
   "execution_count": 66,
   "id": "a6552a1a",
   "metadata": {},
   "outputs": [
    {
     "name": "stdout",
     "output_type": "stream",
     "text": [
      "Accuracy: 0.9333333333333333\n",
      "Precision 0.9128919860627178\n",
      "Recall 0.9961977186311787\n",
      "f1_score 0.9527272727272728\n"
     ]
    }
   ],
   "source": [
    "y_pred_gbm=gbm.predict(X_train)\n",
    "print(\"Accuracy:\",metrics.accuracy_score(y_train, y_pred_gbm))\n",
    "print(\"Precision\",metrics.precision_score(y_train,y_pred_gbm))\n",
    "print(\"Recall\",metrics.recall_score(y_train,y_pred_gbm))\n",
    "print(\"f1_score\",metrics.f1_score(y_train,y_pred_gbm))"
   ]
  },
  {
   "cell_type": "code",
   "execution_count": 67,
   "id": "36fa51e4",
   "metadata": {},
   "outputs": [
    {
     "data": {
      "text/plain": [
       "<sklearn.metrics._plot.confusion_matrix.ConfusionMatrixDisplay at 0x2c35cbd5220>"
      ]
     },
     "execution_count": 67,
     "metadata": {},
     "output_type": "execute_result"
    },
    {
     "data": {
      "image/png": "[encoded data removed]",
      "text/plain": [
       "<Figure size 432x288 with 2 Axes>"
      ]
     },
     "metadata": {
      "needs_background": "light"
     },
     "output_type": "display_data"
    }
   ],
   "source": [
    "metrics.plot_confusion_matrix(gbm,X,y)"
   ]
  },
  {
   "cell_type": "markdown",
   "id": "3b72b375",
   "metadata": {},
   "source": [
    "### Ada Boost Classifier "
   ]
  },
  {
   "cell_type": "code",
   "execution_count": 68,
   "id": "4defc84f",
   "metadata": {},
   "outputs": [],
   "source": [
    "from sklearn.ensemble import AdaBoostClassifier\n",
    "adb = AdaBoostClassifier()\n",
    "adb.fit(X_train, y_train)\n",
    "\n",
    "y_pred_adb = adb.predict(X_test)"
   ]
  },
  {
   "cell_type": "code",
   "execution_count": 69,
   "id": "4327306e",
   "metadata": {},
   "outputs": [
    {
     "name": "stdout",
     "output_type": "stream",
     "text": [
      "Accuracy: 0.8396946564885496\n",
      "Precision 0.8627450980392157\n",
      "Recall 0.9263157894736842\n",
      "f1_score 0.8934010152284264\n"
     ]
    }
   ],
   "source": [
    "print(\"Accuracy:\",metrics.accuracy_score(y_test, y_pred_adb))\n",
    "print(\"Precision\",metrics.precision_score(y_test,y_pred_adb))\n",
    "print(\"Recall\",metrics.recall_score(y_test,y_pred_adb))\n",
    "print(\"f1_score\",metrics.f1_score(y_test,y_pred_adb))"
   ]
  },
  {
   "cell_type": "code",
   "execution_count": 70,
   "id": "04146060",
   "metadata": {},
   "outputs": [
    {
     "name": "stdout",
     "output_type": "stream",
     "text": [
      "Accuracy: 0.8282051282051283\n",
      "Precision 0.8266666666666667\n",
      "Recall 0.9429657794676806\n",
      "f1_score 0.8809946714031971\n"
     ]
    }
   ],
   "source": [
    "y_pred_adb = adb.predict(X_train)\n",
    "print(\"Accuracy:\",metrics.accuracy_score(y_train, y_pred_adb))\n",
    "print(\"Precision\",metrics.precision_score(y_train,y_pred_adb))\n",
    "print(\"Recall\",metrics.recall_score(y_train,y_pred_adb))\n",
    "print(\"f1_score\",metrics.f1_score(y_train,y_pred_adb))"
   ]
  },
  {
   "cell_type": "code",
   "execution_count": 71,
   "id": "9c06348b",
   "metadata": {},
   "outputs": [
    {
     "data": {
      "text/plain": [
       "<sklearn.metrics._plot.confusion_matrix.ConfusionMatrixDisplay at 0x2c3579fcd90>"
      ]
     },
     "execution_count": 71,
     "metadata": {},
     "output_type": "execute_result"
    },
    {
     "data": {
      "image/png": "[encoded data removed]",
      "text/plain": [
       "<Figure size 432x288 with 2 Axes>"
      ]
     },
     "metadata": {
      "needs_background": "light"
     },
     "output_type": "display_data"
    }
   ],
   "source": [
    "metrics.plot_confusion_matrix(adb,X,y)"
   ]
  },
  {
   "cell_type": "markdown",
   "id": "31fd391b",
   "metadata": {},
   "source": [
    "### Support Vector Machine"
   ]
  },
  {
   "cell_type": "code",
   "execution_count": 72,
   "id": "24fd4ff4",
   "metadata": {},
   "outputs": [],
   "source": [
    "from sklearn.svm import SVC\n",
    "svc= SVC()\n",
    "svc.fit(X_train, y_train)\n",
    "\n",
    "y_pred_svc = svc.predict(X_test)"
   ]
  },
  {
   "cell_type": "code",
   "execution_count": 73,
   "id": "31e18ba0",
   "metadata": {},
   "outputs": [
    {
     "name": "stdout",
     "output_type": "stream",
     "text": [
      "Accuracy: 0.8549618320610687\n",
      "Precision 0.8333333333333334\n",
      "Recall 1.0\n",
      "f1_score 0.9090909090909091\n"
     ]
    }
   ],
   "source": [
    "print(\"Accuracy:\",metrics.accuracy_score(y_test, y_pred_svc))\n",
    "print(\"Precision\",metrics.precision_score(y_test,y_pred_svc))\n",
    "print(\"Recall\",metrics.recall_score(y_test,y_pred_svc))\n",
    "print(\"f1_score\",metrics.f1_score(y_test,y_pred_svc))"
   ]
  },
  {
   "cell_type": "code",
   "execution_count": 74,
   "id": "afe9deae",
   "metadata": {},
   "outputs": [
    {
     "name": "stdout",
     "output_type": "stream",
     "text": [
      "Accuracy: 0.7974358974358975\n",
      "Precision 0.7754491017964071\n",
      "Recall 0.9847908745247148\n",
      "f1_score 0.8676716917922946\n"
     ]
    }
   ],
   "source": [
    "y_pred_svc = svc.predict(X_train)\n",
    "print(\"Accuracy:\",metrics.accuracy_score(y_train, y_pred_svc))\n",
    "print(\"Precision\",metrics.precision_score(y_train,y_pred_svc))\n",
    "print(\"Recall\",metrics.recall_score(y_train,y_pred_svc))\n",
    "print(\"f1_score\",metrics.f1_score(y_train,y_pred_svc))"
   ]
  },
  {
   "cell_type": "code",
   "execution_count": 75,
   "id": "6aac3e2e",
   "metadata": {},
   "outputs": [
    {
     "data": {
      "text/plain": [
       "<sklearn.metrics._plot.confusion_matrix.ConfusionMatrixDisplay at 0x2c3625f98e0>"
      ]
     },
     "execution_count": 75,
     "metadata": {},
     "output_type": "execute_result"
    },
    {
     "data": {
      "image/png": "[encoded data removed]",
      "text/plain": [
       "<Figure size 432x288 with 2 Axes>"
      ]
     },
     "metadata": {
      "needs_background": "light"
     },
     "output_type": "display_data"
    }
   ],
   "source": [
    "metrics.plot_confusion_matrix(svc,X,y)"
   ]
  },
  {
   "cell_type": "markdown",
   "id": "f603e160",
   "metadata": {},
   "source": [
    "### K Nearest Neighbour Classifier"
   ]
  },
  {
   "cell_type": "code",
   "execution_count": 76,
   "id": "f7bbe0ce",
   "metadata": {},
   "outputs": [],
   "source": [
    "from sklearn.neighbors import KNeighborsClassifier\n",
    "knn = KNeighborsClassifier(n_neighbors= 7)\n",
    "knn.fit(X_train, y_train)\n",
    "\n",
    "y_pred_knn = knn.predict(X_test)"
   ]
  },
  {
   "cell_type": "code",
   "execution_count": 77,
   "id": "fb41e275",
   "metadata": {},
   "outputs": [
    {
     "name": "stdout",
     "output_type": "stream",
     "text": [
      "Accuracy: 0.7022900763358778\n",
      "Precision 0.7641509433962265\n",
      "Recall 0.8526315789473684\n",
      "f1_score 0.8059701492537313\n"
     ]
    }
   ],
   "source": [
    "print(\"Accuracy:\",metrics.accuracy_score(y_test, y_pred_knn))\n",
    "print(\"Precision\",metrics.precision_score(y_test,y_pred_knn))\n",
    "print(\"Recall\",metrics.recall_score(y_test,y_pred_knn))\n",
    "print(\"f1_score\",metrics.f1_score(y_test,y_pred_knn))"
   ]
  },
  {
   "cell_type": "code",
   "execution_count": 78,
   "id": "07248e51",
   "metadata": {},
   "outputs": [
    {
     "name": "stdout",
     "output_type": "stream",
     "text": [
      "Accuracy: 0.7512820512820513\n",
      "Precision 0.7515151515151515\n",
      "Recall 0.9429657794676806\n",
      "f1_score 0.8364249578414839\n"
     ]
    }
   ],
   "source": [
    "y_pred_knn = knn.predict(X_train)\n",
    "print(\"Accuracy:\",metrics.accuracy_score(y_train, y_pred_knn))\n",
    "print(\"Precision\",metrics.precision_score(y_train,y_pred_knn))\n",
    "print(\"Recall\",metrics.recall_score(y_train,y_pred_knn))\n",
    "print(\"f1_score\",metrics.f1_score(y_train,y_pred_knn))"
   ]
  },
  {
   "cell_type": "code",
   "execution_count": 79,
   "id": "99a99a87",
   "metadata": {},
   "outputs": [
    {
     "data": {
      "text/plain": [
       "<sklearn.metrics._plot.confusion_matrix.ConfusionMatrixDisplay at 0x2c3626a9130>"
      ]
     },
     "execution_count": 79,
     "metadata": {},
     "output_type": "execute_result"
    },
    {
     "data": {
      "image/png": "[encoded data removed]",
      "text/plain": [
       "<Figure size 432x288 with 2 Axes>"
      ]
     },
     "metadata": {
      "needs_background": "light"
     },
     "output_type": "display_data"
    }
   ],
   "source": [
    "metrics.plot_confusion_matrix(knn,X,y)"
   ]
  },
  {
   "cell_type": "markdown",
   "id": "1bcc6d34",
   "metadata": {},
   "source": [
    "### Naive Bayes"
   ]
  },
  {
   "cell_type": "code",
   "execution_count": 80,
   "id": "6d1f1260",
   "metadata": {},
   "outputs": [],
   "source": [
    "from sklearn.naive_bayes import GaussianNB\n",
    "gnb = GaussianNB()\n",
    "gnb.fit(X_train, y_train)\n",
    "\n",
    "y_pred_gnb = gnb.predict(X_test)"
   ]
  },
  {
   "cell_type": "code",
   "execution_count": 81,
   "id": "2c6c396b",
   "metadata": {},
   "outputs": [
    {
     "name": "stdout",
     "output_type": "stream",
     "text": [
      "Accuracy: 0.8625954198473282\n",
      "Precision 0.8666666666666667\n",
      "Recall 0.9578947368421052\n",
      "f1_score 0.91\n"
     ]
    }
   ],
   "source": [
    "print(\"Accuracy:\",metrics.accuracy_score(y_test, y_pred_gnb))\n",
    "print(\"Precision\",metrics.precision_score(y_test,y_pred_gnb))\n",
    "print(\"Recall\",metrics.recall_score(y_test,y_pred_gnb))\n",
    "print(\"f1_score\",metrics.f1_score(y_test,y_pred_gnb))"
   ]
  },
  {
   "cell_type": "code",
   "execution_count": 82,
   "id": "fa2bcad0",
   "metadata": {},
   "outputs": [
    {
     "name": "stdout",
     "output_type": "stream",
     "text": [
      "Accuracy: 0.7717948717948718\n",
      "Precision 0.7652439024390244\n",
      "Recall 0.9543726235741445\n",
      "f1_score 0.8494077834179358\n"
     ]
    }
   ],
   "source": [
    "y_pred_gnb = gnb.predict(X_train)\n",
    "print(\"Accuracy:\",metrics.accuracy_score(y_train, y_pred_gnb))\n",
    "print(\"Precision\",metrics.precision_score(y_train,y_pred_gnb))\n",
    "print(\"Recall\",metrics.recall_score(y_train,y_pred_gnb))\n",
    "print(\"f1_score\",metrics.f1_score(y_train,y_pred_gnb))"
   ]
  },
  {
   "cell_type": "code",
   "execution_count": 83,
   "id": "9cb60745",
   "metadata": {},
   "outputs": [
    {
     "data": {
      "text/plain": [
       "<sklearn.metrics._plot.confusion_matrix.ConfusionMatrixDisplay at 0x2c35cb549d0>"
      ]
     },
     "execution_count": 83,
     "metadata": {},
     "output_type": "execute_result"
    },
    {
     "data": {
      "image/png": "[encoded data removed]",
      "text/plain": [
       "<Figure size 432x288 with 2 Axes>"
      ]
     },
     "metadata": {
      "needs_background": "light"
     },
     "output_type": "display_data"
    }
   ],
   "source": [
    "metrics.plot_confusion_matrix(gnb,X,y)"
   ]
  },
  {
   "cell_type": "markdown",
   "id": "86aabf13",
   "metadata": {},
   "source": [
    "### Result"
   ]
  },
  {
   "cell_type": "markdown",
   "id": "6ba427bb",
   "metadata": {},
   "source": [
    "1. Accuracy of Logistic Regression :- 87.78 %\n",
    "2. Accuracy of Decision Tree :-62.59  %\n",
    "3. Accuracy of Random Forest Classifier :- 83.96 %\n",
    "4. Accuracy of Gradient Boosting :- 83.96 %\n",
    "5. Accuracy of Ada Boost Classifier :- 83.96 %\n",
    "6. Accuracy of Support Vector Machine :- 85.49 %\n",
    "7. Accuracy of K Nearest Neighbors Classifier :- 69.46 %\n",
    "8. Accuracy of Naive Bayes :- 86.25 %"
   ]
  },
  {
   "cell_type": "markdown",
   "id": "c6c6fd09",
   "metadata": {},
   "source": [
    "### Observation"
   ]
  },
  {
   "cell_type": "markdown",
   "id": "6bd82fcd",
   "metadata": {},
   "source": [
    "1. For every model, we have train the data (x_train, y_train) & predict with the help of x_test. Now, with the help of the y_test & prediction value, we got the accuracy score. So, out of all models, we are getting the highest accuracy of 87.78% for algorithm ( Logistic Regression) with less type-I&II error.\n",
    "2. If we observe training accuracies ,some models like Decision Trees, Random Forest Classifier & Gradient Boosting are overfitted. So, hyperparameter tuning needed to be done."
   ]
  },
  {
   "cell_type": "markdown",
   "id": "881f2488",
   "metadata": {},
   "source": [
    "### Cross Validation"
   ]
  },
  {
   "cell_type": "markdown",
   "id": "482a02f9",
   "metadata": {},
   "source": [
    "We would perform cross-validation for every model & compare with the accuracy score, whichever model gives the less difference between cross-validation score & accuracy score is the best fit model."
   ]
  },
  {
   "cell_type": "code",
   "execution_count": 84,
   "id": "5f70697c",
   "metadata": {},
   "outputs": [
    {
     "name": "stdout",
     "output_type": "stream",
     "text": [
      "Cross validation score for Logistic Regression 68.71708683473389\n"
     ]
    }
   ],
   "source": [
    "from sklearn.model_selection import cross_val_score\n",
    "for j in range(2,16):\n",
    "    cv_score=cross_val_score(lr,x,y,cv=j)\n",
    "    cv_mean = cv_score.mean()\n",
    "print (\"Cross validation score for Logistic Regression\",cv_mean*100) "
   ]
  },
  {
   "cell_type": "code",
   "execution_count": 85,
   "id": "b4274470",
   "metadata": {},
   "outputs": [
    {
     "name": "stdout",
     "output_type": "stream",
     "text": [
      "Cross validation score for Decission Tree 70.84593837535013\n"
     ]
    }
   ],
   "source": [
    "for j in range(2,16):\n",
    "    cv_score=cross_val_score(dtree,x,y,cv=j)\n",
    "    cv_mean = cv_score.mean()\n",
    "print (\"Cross validation score for Decission Tree\",cv_mean*100) "
   ]
  },
  {
   "cell_type": "code",
   "execution_count": 86,
   "id": "c44468ae",
   "metadata": {},
   "outputs": [
    {
     "name": "stdout",
     "output_type": "stream",
     "text": [
      "Cross validation score for Random Forest Classifier 77.34453781512605\n"
     ]
    }
   ],
   "source": [
    "for j in range(2,16):\n",
    "    cv_score=cross_val_score(rf,x,y,cv=j)\n",
    "    cv_mean = cv_score.mean()\n",
    "print (\"Cross validation score for Random Forest Classifier\",cv_mean*100) "
   ]
  },
  {
   "cell_type": "code",
   "execution_count": 87,
   "id": "1ba27322",
   "metadata": {},
   "outputs": [
    {
     "name": "stdout",
     "output_type": "stream",
     "text": [
      "Cross validation score for Gradient Boosting 75.6358543417367\n"
     ]
    }
   ],
   "source": [
    "for j in range(2,16):\n",
    "    cv_score=cross_val_score(gbm,x,y,cv=j)\n",
    "    cv_mean = cv_score.mean()\n",
    "print (\"Cross validation score for Gradient Boosting\",cv_mean*100) "
   ]
  },
  {
   "cell_type": "code",
   "execution_count": 88,
   "id": "08fddc01",
   "metadata": {},
   "outputs": [
    {
     "name": "stdout",
     "output_type": "stream",
     "text": [
      "Cross validation score for Ada Boosting Classifier 78.52100840336135\n"
     ]
    }
   ],
   "source": [
    "for j in range(2,16):\n",
    "    cv_score=cross_val_score(adb,x,y,cv=j)\n",
    "    cv_mean = cv_score.mean()\n",
    "print (\"Cross validation score for Ada Boosting Classifier\",cv_mean*100) "
   ]
  },
  {
   "cell_type": "code",
   "execution_count": 89,
   "id": "32f954ab",
   "metadata": {},
   "outputs": [
    {
     "name": "stdout",
     "output_type": "stream",
     "text": [
      "Cross validation score for Support vector machine 68.71708683473389\n"
     ]
    }
   ],
   "source": [
    "for j in range(2,16):\n",
    "    cv_score=cross_val_score(svc,x,y,cv=j)\n",
    "    cv_mean = cv_score.mean()\n",
    "print (\"Cross validation score for Support vector machine\",cv_mean*100) "
   ]
  },
  {
   "cell_type": "code",
   "execution_count": 90,
   "id": "f3c5d433",
   "metadata": {},
   "outputs": [
    {
     "name": "stdout",
     "output_type": "stream",
     "text": [
      "Cross validation score for K Nearest Neighbour 63.120448179271705\n"
     ]
    }
   ],
   "source": [
    "for j in range(2,16):\n",
    "    cv_score=cross_val_score(knn,x,y,cv=j)\n",
    "    cv_mean = cv_score.mean()\n",
    "print (\"Cross validation score for K Nearest Neighbour\",cv_mean*100) "
   ]
  },
  {
   "cell_type": "code",
   "execution_count": 91,
   "id": "ab6c42ce",
   "metadata": {},
   "outputs": [
    {
     "name": "stdout",
     "output_type": "stream",
     "text": [
      "Cross validation score for Naive Bayes 66.60504201680672\n"
     ]
    }
   ],
   "source": [
    "for j in range(2,16):\n",
    "    cv_score=cross_val_score(gnb,x,y,cv=j)\n",
    "    cv_mean = cv_score.mean()\n",
    "print (\"Cross validation score for Naive Bayes\",cv_mean*100) "
   ]
  },
  {
   "cell_type": "markdown",
   "id": "04ba463a",
   "metadata": {},
   "source": [
    "### Hyper Parameter Tuning "
   ]
  },
  {
   "cell_type": "code",
   "execution_count": 92,
   "id": "224f499e",
   "metadata": {},
   "outputs": [],
   "source": [
    "#hyper parameter tuning for Dession tree"
   ]
  },
  {
   "cell_type": "code",
   "execution_count": 93,
   "id": "ce3ced58",
   "metadata": {},
   "outputs": [
    {
     "name": "stdout",
     "output_type": "stream",
     "text": [
      "Best Parameters using grid search: \n",
      " {'criterion': 'gini', 'max_depth': 3, 'min_samples_split': 100}\n"
     ]
    }
   ],
   "source": [
    "from sklearn.model_selection import GridSearchCV\n",
    "param_dist = {'max_depth': [3, 5, 6, 7], 'criterion':['gini','entrophy'],'min_samples_split': [50, 100, 150, 200, 250] }\n",
    "tree_grid = GridSearchCV(dtree, cv = 10, param_grid=param_dist,n_jobs = 3)\n",
    "tree_grid.fit(X_train,y_train) \n",
    "print('Best Parameters using grid search: \\n', tree_grid.best_params_)"
   ]
  },
  {
   "cell_type": "code",
   "execution_count": 94,
   "id": "65edbd55",
   "metadata": {},
   "outputs": [],
   "source": [
    "dtree= DecisionTreeClassifier(criterion='gini',random_state=267,max_depth=3,min_samples_split=100)\n",
    "dtree.fit(X_train,y_train)\n",
    "\n",
    "y_pred_dtree=dtree.predict(X_test)"
   ]
  },
  {
   "cell_type": "code",
   "execution_count": 95,
   "id": "ae283acd",
   "metadata": {},
   "outputs": [
    {
     "name": "stdout",
     "output_type": "stream",
     "text": [
      "Accuracy: 0.8854961832061069\n",
      "Precision 0.8636363636363636\n",
      "Recall 1.0\n",
      "f1_score 0.9268292682926829\n"
     ]
    }
   ],
   "source": [
    "print(\"Accuracy:\",metrics.accuracy_score(y_test, y_pred_dtree))\n",
    "print(\"Precision\",metrics.precision_score(y_test,y_pred_dtree))\n",
    "print(\"Recall\",metrics.recall_score(y_test,y_pred_dtree))\n",
    "print(\"f1_score\",metrics.f1_score(y_test,y_pred_dtree))"
   ]
  },
  {
   "cell_type": "code",
   "execution_count": 96,
   "id": "1773130a",
   "metadata": {},
   "outputs": [
    {
     "name": "stdout",
     "output_type": "stream",
     "text": [
      "Accuracy: 0.7769230769230769\n",
      "Precision 0.7603550295857988\n",
      "Recall 0.9771863117870723\n",
      "f1_score 0.8552412645590682\n"
     ]
    }
   ],
   "source": [
    "y_pred_tree=dtree.predict(X_train)\n",
    "print(\"Accuracy:\",metrics.accuracy_score(y_train, y_pred_tree))\n",
    "print(\"Precision\",metrics.precision_score(y_train,y_pred_tree))\n",
    "print(\"Recall\",metrics.recall_score(y_train,y_pred_tree))\n",
    "print(\"f1_score\",metrics.f1_score(y_train,y_pred_tree))"
   ]
  },
  {
   "cell_type": "code",
   "execution_count": 97,
   "id": "c550a16d",
   "metadata": {},
   "outputs": [
    {
     "data": {
      "text/plain": [
       "<sklearn.metrics._plot.confusion_matrix.ConfusionMatrixDisplay at 0x2c36108f550>"
      ]
     },
     "execution_count": 97,
     "metadata": {},
     "output_type": "execute_result"
    },
    {
     "data": {
      "image/png": "[encoded data removed]",
      "text/plain": [
       "<Figure size 432x288 with 2 Axes>"
      ]
     },
     "metadata": {
      "needs_background": "light"
     },
     "output_type": "display_data"
    }
   ],
   "source": [
    "metrics.plot_confusion_matrix(dtree,X,y)"
   ]
  },
  {
   "cell_type": "code",
   "execution_count": 98,
   "id": "3b04eb22",
   "metadata": {},
   "outputs": [
    {
     "name": "stdout",
     "output_type": "stream",
     "text": [
      "Cross validation score for Decission Tree 80.25770308123249\n"
     ]
    }
   ],
   "source": [
    "for j in range(2,16):\n",
    "    cv_score=cross_val_score(dtree,x,y,cv=j)\n",
    "    cv_mean = cv_score.mean()\n",
    "print (\"Cross validation score for Decission Tree\",cv_mean*100) "
   ]
  },
  {
   "cell_type": "code",
   "execution_count": 99,
   "id": "b0fe11c5",
   "metadata": {},
   "outputs": [],
   "source": [
    "#hyperparameter tuning for Random forest classifier"
   ]
  },
  {
   "cell_type": "code",
   "execution_count": 100,
   "id": "b13b6435",
   "metadata": {},
   "outputs": [
    {
     "name": "stdout",
     "output_type": "stream",
     "text": [
      "Best Parameters using grid search: \n",
      " {'criterion': 'gini', 'max_depth': 6, 'min_samples_split': 100}\n"
     ]
    }
   ],
   "source": [
    "\n",
    "from sklearn.model_selection import GridSearchCV\n",
    "param_dist = {'max_depth': [ 3,5, 6, 7], 'criterion':['gini','entrophy'],'min_samples_split': [50, 100, 150, 200, 250] }\n",
    "rf_grid = GridSearchCV(rf, cv = 5, param_grid=param_dist,n_jobs = 3)\n",
    "rf_grid.fit(X_train,y_train) \n",
    "print('Best Parameters using grid search: \\n', rf_grid.best_params_)"
   ]
  },
  {
   "cell_type": "code",
   "execution_count": 101,
   "id": "24006f6b",
   "metadata": {},
   "outputs": [],
   "source": [
    "rf= RandomForestClassifier(criterion='gini',random_state=267,max_depth=3,min_samples_split=50)\n",
    "rf.fit(X_train,y_train)\n",
    "\n",
    "y_pred_rf=rf.predict(X_test)"
   ]
  },
  {
   "cell_type": "code",
   "execution_count": 102,
   "id": "51ba7d2b",
   "metadata": {},
   "outputs": [
    {
     "name": "stdout",
     "output_type": "stream",
     "text": [
      "Accuracy: 0.8854961832061069\n",
      "Precision 0.8636363636363636\n",
      "Recall 1.0\n",
      "f1_score 0.9268292682926829\n"
     ]
    }
   ],
   "source": [
    "print(\"Accuracy:\",metrics.accuracy_score(y_test, y_pred_rf))\n",
    "print(\"Precision\",metrics.precision_score(y_test,y_pred_rf))\n",
    "print(\"Recall\",metrics.recall_score(y_test,y_pred_rf))\n",
    "print(\"f1_score\",metrics.f1_score(y_test,y_pred_rf))"
   ]
  },
  {
   "cell_type": "code",
   "execution_count": 103,
   "id": "90892660",
   "metadata": {},
   "outputs": [
    {
     "name": "stdout",
     "output_type": "stream",
     "text": [
      "Accuracy: 0.7769230769230769\n",
      "Precision 0.7603550295857988\n",
      "Recall 0.9771863117870723\n",
      "f1_score 0.8552412645590682\n"
     ]
    }
   ],
   "source": [
    "y_pred_rf=rf.predict(X_train)\n",
    "print(\"Accuracy:\",metrics.accuracy_score(y_train, y_pred_rf))\n",
    "print(\"Precision\",metrics.precision_score(y_train,y_pred_rf))\n",
    "print(\"Recall\",metrics.recall_score(y_train,y_pred_rf))\n",
    "print(\"f1_score\",metrics.f1_score(y_train,y_pred_rf))"
   ]
  },
  {
   "cell_type": "code",
   "execution_count": 104,
   "id": "c73f4e95",
   "metadata": {},
   "outputs": [
    {
     "data": {
      "text/plain": [
       "<sklearn.metrics._plot.confusion_matrix.ConfusionMatrixDisplay at 0x2c362536fa0>"
      ]
     },
     "execution_count": 104,
     "metadata": {},
     "output_type": "execute_result"
    },
    {
     "data": {
      "image/png": "[encoded data removed]",
      "text/plain": [
       "<Figure size 432x288 with 2 Axes>"
      ]
     },
     "metadata": {
      "needs_background": "light"
     },
     "output_type": "display_data"
    }
   ],
   "source": [
    "metrics.plot_confusion_matrix(rf,X,y)"
   ]
  },
  {
   "cell_type": "code",
   "execution_count": 105,
   "id": "3c62bf83",
   "metadata": {},
   "outputs": [
    {
     "name": "stdout",
     "output_type": "stream",
     "text": [
      "Cross validation score for Random Forest Classifier 80.25770308123249\n"
     ]
    }
   ],
   "source": [
    "for j in range(2,16):\n",
    "    cv_score=cross_val_score(rf,x,y,cv=j)\n",
    "    cv_mean = cv_score.mean()\n",
    "print (\"Cross validation score for Random Forest Classifier\",cv_mean*100) "
   ]
  },
  {
   "cell_type": "code",
   "execution_count": 106,
   "id": "be7a7c74",
   "metadata": {},
   "outputs": [],
   "source": [
    "#hyperparameter tuning for Gradient Boosting"
   ]
  },
  {
   "cell_type": "code",
   "execution_count": 107,
   "id": "9dc63b4f",
   "metadata": {},
   "outputs": [
    {
     "data": {
      "text/plain": [
       "GridSearchCV(cv=5, estimator=GradientBoostingClassifier(),\n",
       "             param_grid={'learning_rate': [0.01, 0.1, 1, 10, 100],\n",
       "                         'max_depth': [3, 5, 7, 9],\n",
       "                         'n_estimators': [5, 50, 250, 500]})"
      ]
     },
     "execution_count": 107,
     "metadata": {},
     "output_type": "execute_result"
    }
   ],
   "source": [
    "from sklearn.model_selection import GridSearchCV\n",
    "parameters = {\n",
    "    \"n_estimators\":[5,50,250,500],\n",
    "    \"max_depth\":[3,5,7,9],\n",
    "    \"learning_rate\":[0.01,0.1,1,10,100]\n",
    "}\n",
    "cv = GridSearchCV(gbm,parameters,cv=5)\n",
    "cv.fit(X_train,y_train)"
   ]
  },
  {
   "cell_type": "code",
   "execution_count": 108,
   "id": "2a85f5db",
   "metadata": {},
   "outputs": [],
   "source": [
    "def display(results):\n",
    "    print(f'Best parameters are: {results.best_params_}')\n",
    "    print(\"\\n\")\n",
    "    mean_score = results.cv_results_['mean_test_score']\n",
    "    std_score = results.cv_results_['std_test_score']\n",
    "    params = results.cv_results_['params']\n",
    "    for mean,std,params in zip(mean_score,std_score,params):\n",
    "        print(f'{round(mean,3)} + or -{round(std,3)} for the {params}')"
   ]
  },
  {
   "cell_type": "code",
   "execution_count": 109,
   "id": "132cde69",
   "metadata": {},
   "outputs": [
    {
     "name": "stdout",
     "output_type": "stream",
     "text": [
      "Best parameters are: {'learning_rate': 0.01, 'max_depth': 3, 'n_estimators': 50}\n",
      "\n",
      "\n",
      "0.674 + or -0.006 for the {'learning_rate': 0.01, 'max_depth': 3, 'n_estimators': 5}\n",
      "0.756 + or -0.041 for the {'learning_rate': 0.01, 'max_depth': 3, 'n_estimators': 50}\n",
      "0.756 + or -0.045 for the {'learning_rate': 0.01, 'max_depth': 3, 'n_estimators': 250}\n",
      "0.736 + or -0.052 for the {'learning_rate': 0.01, 'max_depth': 3, 'n_estimators': 500}\n",
      "0.674 + or -0.006 for the {'learning_rate': 0.01, 'max_depth': 5, 'n_estimators': 5}\n",
      "0.741 + or -0.042 for the {'learning_rate': 0.01, 'max_depth': 5, 'n_estimators': 50}\n",
      "0.71 + or -0.055 for the {'learning_rate': 0.01, 'max_depth': 5, 'n_estimators': 250}\n",
      "0.7 + or -0.063 for the {'learning_rate': 0.01, 'max_depth': 5, 'n_estimators': 500}\n",
      "0.674 + or -0.006 for the {'learning_rate': 0.01, 'max_depth': 7, 'n_estimators': 5}\n",
      "0.721 + or -0.06 for the {'learning_rate': 0.01, 'max_depth': 7, 'n_estimators': 50}\n",
      "0.723 + or -0.057 for the {'learning_rate': 0.01, 'max_depth': 7, 'n_estimators': 250}\n",
      "0.705 + or -0.064 for the {'learning_rate': 0.01, 'max_depth': 7, 'n_estimators': 500}\n",
      "0.674 + or -0.006 for the {'learning_rate': 0.01, 'max_depth': 9, 'n_estimators': 5}\n",
      "0.7 + or -0.059 for the {'learning_rate': 0.01, 'max_depth': 9, 'n_estimators': 50}\n",
      "0.7 + or -0.068 for the {'learning_rate': 0.01, 'max_depth': 9, 'n_estimators': 250}\n",
      "0.687 + or -0.058 for the {'learning_rate': 0.01, 'max_depth': 9, 'n_estimators': 500}\n",
      "0.756 + or -0.041 for the {'learning_rate': 0.1, 'max_depth': 3, 'n_estimators': 5}\n",
      "0.736 + or -0.059 for the {'learning_rate': 0.1, 'max_depth': 3, 'n_estimators': 50}\n",
      "0.715 + or -0.042 for the {'learning_rate': 0.1, 'max_depth': 3, 'n_estimators': 250}\n",
      "0.703 + or -0.048 for the {'learning_rate': 0.1, 'max_depth': 3, 'n_estimators': 500}\n",
      "0.744 + or -0.046 for the {'learning_rate': 0.1, 'max_depth': 5, 'n_estimators': 5}\n",
      "0.697 + or -0.048 for the {'learning_rate': 0.1, 'max_depth': 5, 'n_estimators': 50}\n",
      "0.708 + or -0.069 for the {'learning_rate': 0.1, 'max_depth': 5, 'n_estimators': 250}\n",
      "0.685 + or -0.046 for the {'learning_rate': 0.1, 'max_depth': 5, 'n_estimators': 500}\n",
      "0.715 + or -0.066 for the {'learning_rate': 0.1, 'max_depth': 7, 'n_estimators': 5}\n",
      "0.703 + or -0.06 for the {'learning_rate': 0.1, 'max_depth': 7, 'n_estimators': 50}\n",
      "0.7 + or -0.059 for the {'learning_rate': 0.1, 'max_depth': 7, 'n_estimators': 250}\n",
      "0.695 + or -0.04 for the {'learning_rate': 0.1, 'max_depth': 7, 'n_estimators': 500}\n",
      "0.708 + or -0.057 for the {'learning_rate': 0.1, 'max_depth': 9, 'n_estimators': 5}\n",
      "0.7 + or -0.06 for the {'learning_rate': 0.1, 'max_depth': 9, 'n_estimators': 50}\n",
      "0.715 + or -0.063 for the {'learning_rate': 0.1, 'max_depth': 9, 'n_estimators': 250}\n",
      "0.7 + or -0.066 for the {'learning_rate': 0.1, 'max_depth': 9, 'n_estimators': 500}\n",
      "0.726 + or -0.054 for the {'learning_rate': 1, 'max_depth': 3, 'n_estimators': 5}\n",
      "0.677 + or -0.055 for the {'learning_rate': 1, 'max_depth': 3, 'n_estimators': 50}\n",
      "0.713 + or -0.029 for the {'learning_rate': 1, 'max_depth': 3, 'n_estimators': 250}\n",
      "0.708 + or -0.026 for the {'learning_rate': 1, 'max_depth': 3, 'n_estimators': 500}\n",
      "0.685 + or -0.045 for the {'learning_rate': 1, 'max_depth': 5, 'n_estimators': 5}\n",
      "0.71 + or -0.049 for the {'learning_rate': 1, 'max_depth': 5, 'n_estimators': 50}\n",
      "0.713 + or -0.024 for the {'learning_rate': 1, 'max_depth': 5, 'n_estimators': 250}\n",
      "0.703 + or -0.038 for the {'learning_rate': 1, 'max_depth': 5, 'n_estimators': 500}\n",
      "0.685 + or -0.043 for the {'learning_rate': 1, 'max_depth': 7, 'n_estimators': 5}\n",
      "0.715 + or -0.036 for the {'learning_rate': 1, 'max_depth': 7, 'n_estimators': 50}\n",
      "0.708 + or -0.048 for the {'learning_rate': 1, 'max_depth': 7, 'n_estimators': 250}\n",
      "0.703 + or -0.042 for the {'learning_rate': 1, 'max_depth': 7, 'n_estimators': 500}\n",
      "0.679 + or -0.049 for the {'learning_rate': 1, 'max_depth': 9, 'n_estimators': 5}\n",
      "0.71 + or -0.054 for the {'learning_rate': 1, 'max_depth': 9, 'n_estimators': 50}\n",
      "0.713 + or -0.048 for the {'learning_rate': 1, 'max_depth': 9, 'n_estimators': 250}\n",
      "0.728 + or -0.042 for the {'learning_rate': 1, 'max_depth': 9, 'n_estimators': 500}\n",
      "0.641 + or -0.089 for the {'learning_rate': 10, 'max_depth': 3, 'n_estimators': 5}\n",
      "0.605 + or -0.106 for the {'learning_rate': 10, 'max_depth': 3, 'n_estimators': 50}\n",
      "0.641 + or -0.089 for the {'learning_rate': 10, 'max_depth': 3, 'n_estimators': 250}\n",
      "0.641 + or -0.089 for the {'learning_rate': 10, 'max_depth': 3, 'n_estimators': 500}\n",
      "0.59 + or -0.125 for the {'learning_rate': 10, 'max_depth': 5, 'n_estimators': 5}\n",
      "0.538 + or -0.131 for the {'learning_rate': 10, 'max_depth': 5, 'n_estimators': 50}\n",
      "0.513 + or -0.14 for the {'learning_rate': 10, 'max_depth': 5, 'n_estimators': 250}\n",
      "0.567 + or -0.103 for the {'learning_rate': 10, 'max_depth': 5, 'n_estimators': 500}\n",
      "0.572 + or -0.068 for the {'learning_rate': 10, 'max_depth': 7, 'n_estimators': 5}\n",
      "0.562 + or -0.05 for the {'learning_rate': 10, 'max_depth': 7, 'n_estimators': 50}\n",
      "0.533 + or -0.098 for the {'learning_rate': 10, 'max_depth': 7, 'n_estimators': 250}\n",
      "0.585 + or -0.054 for the {'learning_rate': 10, 'max_depth': 7, 'n_estimators': 500}\n",
      "0.669 + or -0.057 for the {'learning_rate': 10, 'max_depth': 9, 'n_estimators': 5}\n",
      "0.667 + or -0.044 for the {'learning_rate': 10, 'max_depth': 9, 'n_estimators': 50}\n",
      "0.674 + or -0.029 for the {'learning_rate': 10, 'max_depth': 9, 'n_estimators': 250}\n",
      "0.672 + or -0.055 for the {'learning_rate': 10, 'max_depth': 9, 'n_estimators': 500}\n",
      "0.515 + or -0.084 for the {'learning_rate': 100, 'max_depth': 3, 'n_estimators': 5}\n",
      "0.474 + or -0.068 for the {'learning_rate': 100, 'max_depth': 3, 'n_estimators': 50}\n",
      "0.474 + or -0.068 for the {'learning_rate': 100, 'max_depth': 3, 'n_estimators': 250}\n",
      "0.474 + or -0.068 for the {'learning_rate': 100, 'max_depth': 3, 'n_estimators': 500}\n",
      "0.451 + or -0.09 for the {'learning_rate': 100, 'max_depth': 5, 'n_estimators': 5}\n",
      "0.467 + or -0.066 for the {'learning_rate': 100, 'max_depth': 5, 'n_estimators': 50}\n",
      "0.446 + or -0.035 for the {'learning_rate': 100, 'max_depth': 5, 'n_estimators': 250}\n",
      "0.469 + or -0.082 for the {'learning_rate': 100, 'max_depth': 5, 'n_estimators': 500}\n",
      "0.51 + or -0.078 for the {'learning_rate': 100, 'max_depth': 7, 'n_estimators': 5}\n",
      "0.523 + or -0.093 for the {'learning_rate': 100, 'max_depth': 7, 'n_estimators': 50}\n",
      "0.513 + or -0.08 for the {'learning_rate': 100, 'max_depth': 7, 'n_estimators': 250}\n",
      "0.59 + or -0.094 for the {'learning_rate': 100, 'max_depth': 7, 'n_estimators': 500}\n",
      "0.436 + or -0.134 for the {'learning_rate': 100, 'max_depth': 9, 'n_estimators': 5}\n",
      "0.421 + or -0.073 for the {'learning_rate': 100, 'max_depth': 9, 'n_estimators': 50}\n",
      "0.462 + or -0.13 for the {'learning_rate': 100, 'max_depth': 9, 'n_estimators': 250}\n",
      "0.451 + or -0.135 for the {'learning_rate': 100, 'max_depth': 9, 'n_estimators': 500}\n"
     ]
    }
   ],
   "source": [
    "display(cv)"
   ]
  },
  {
   "cell_type": "code",
   "execution_count": 110,
   "id": "22457b95",
   "metadata": {},
   "outputs": [],
   "source": [
    "# Building a Gradient Boosting Model again \n",
    "from sklearn.ensemble import GradientBoostingClassifier\n",
    "gbm=GradientBoostingClassifier(learning_rate= 0.01, max_depth= 3, n_estimators= 250)\n",
    "gbm.fit(X_train,y_train)\n",
    "\n",
    "y_pred_gbm=gbm.predict(X_test)"
   ]
  },
  {
   "cell_type": "code",
   "execution_count": 111,
   "id": "ed6ba855",
   "metadata": {},
   "outputs": [
    {
     "name": "stdout",
     "output_type": "stream",
     "text": [
      "Accuracy: 0.8702290076335878\n",
      "Precision 0.8545454545454545\n",
      "Recall 0.9894736842105263\n",
      "f1_score 0.9170731707317074\n"
     ]
    }
   ],
   "source": [
    "print(\"Accuracy:\",metrics.accuracy_score(y_test, y_pred_gbm))\n",
    "print(\"Precision\",metrics.precision_score(y_test,y_pred_gbm))\n",
    "print(\"Recall\",metrics.recall_score(y_test,y_pred_gbm))\n",
    "print(\"f1_score\",metrics.f1_score(y_test,y_pred_gbm))"
   ]
  },
  {
   "cell_type": "code",
   "execution_count": 112,
   "id": "cc4ac1dc",
   "metadata": {},
   "outputs": [
    {
     "name": "stdout",
     "output_type": "stream",
     "text": [
      "Accuracy: 0.8\n",
      "Precision 0.7728613569321534\n",
      "Recall 0.9961977186311787\n",
      "f1_score 0.8704318936877077\n"
     ]
    }
   ],
   "source": [
    "y_pred_gbm=gbm.predict(X_train)\n",
    "print(\"Accuracy:\",metrics.accuracy_score(y_train, y_pred_gbm))\n",
    "print(\"Precision\",metrics.precision_score(y_train,y_pred_gbm))\n",
    "print(\"Recall\",metrics.recall_score(y_train,y_pred_gbm))\n",
    "print(\"f1_score\",metrics.f1_score(y_train,y_pred_gbm))"
   ]
  },
  {
   "cell_type": "code",
   "execution_count": 113,
   "id": "3ef544d4",
   "metadata": {},
   "outputs": [
    {
     "data": {
      "text/plain": [
       "<sklearn.metrics._plot.confusion_matrix.ConfusionMatrixDisplay at 0x2c3625b44f0>"
      ]
     },
     "execution_count": 113,
     "metadata": {},
     "output_type": "execute_result"
    },
    {
     "data": {
      "image/png": "[encoded data removed]",
      "text/plain": [
       "<Figure size 432x288 with 2 Axes>"
      ]
     },
     "metadata": {
      "needs_background": "light"
     },
     "output_type": "display_data"
    }
   ],
   "source": [
    "metrics.plot_confusion_matrix(gbm,X,y)"
   ]
  },
  {
   "cell_type": "code",
   "execution_count": 114,
   "id": "b59a7ca6",
   "metadata": {},
   "outputs": [
    {
     "name": "stdout",
     "output_type": "stream",
     "text": [
      "Cross validation score for Gradient Boosting 79.2997198879552\n"
     ]
    }
   ],
   "source": [
    "for j in range(2,16):\n",
    "    cv_score=cross_val_score(gbm,x,y,cv=j)\n",
    "    cv_mean = cv_score.mean()\n",
    "print (\"Cross validation score for Gradient Boosting\",cv_mean*100) "
   ]
  },
  {
   "cell_type": "markdown",
   "id": "deace006",
   "metadata": {},
   "source": [
    "Analysis after hyperparameter tuning"
   ]
  },
  {
   "cell_type": "markdown",
   "id": "addf8229",
   "metadata": {},
   "source": [
    "1. Accuracy and cross validation for Decision tree are 88.54 & 80.25\n",
    "2. Accuracy and cross validation for Random forest classifier are 88.54 & 80.25\n",
    "3. Accuracy and cross validation for Gradient Boosting are 87.02 & 79.29"
   ]
  },
  {
   "cell_type": "markdown",
   "id": "574e606c",
   "metadata": {},
   "source": [
    "1. Here we can see, difference between accuracy and cross validation score is high for Logistic Regression \n",
    "and SVM & Naive Bayes as compare to other models.\n",
    "2. Ada Boost classifier has the least difference between cross-validation score & accuracy score.\n"
   ]
  },
  {
   "cell_type": "markdown",
   "id": "ef70d6e2",
   "metadata": {},
   "source": [
    "### ROC-AUC "
   ]
  },
  {
   "cell_type": "markdown",
   "id": "fc1ce1cf",
   "metadata": {},
   "source": [
    "Now, let’s check AUC-ROC & accordingly we would be able to decide the best fit model"
   ]
  },
  {
   "cell_type": "code",
   "execution_count": 115,
   "id": "4b383779",
   "metadata": {},
   "outputs": [
    {
     "data": {
      "image/png": "[encoded data removed]",
      "text/plain": [
       "<Figure size 432x288 with 1 Axes>"
      ]
     },
     "metadata": {
      "needs_background": "light"
     },
     "output_type": "display_data"
    }
   ],
   "source": [
    "from sklearn.metrics import roc_curve, roc_auc_score,plot_roc_curve\n",
    "\n",
    "disp = plot_roc_curve(lr,X_test,y_test)\n",
    "disp = plot_roc_curve(dtree,X_test,y_test,ax = disp.ax_)\n",
    "disp = plot_roc_curve(rf,X_test,y_test,ax = disp.ax_)\n",
    "disp = plot_roc_curve(gbm,X_test,y_test,ax = disp.ax_)\n",
    "disp = plot_roc_curve(adb,X_test,y_test,ax = disp.ax_)\n",
    "disp = plot_roc_curve(svc,X_test,y_test,ax = disp.ax_)\n",
    "disp = plot_roc_curve(knn,X_test,y_test,ax = disp.ax_)\n",
    "disp = plot_roc_curve(gnb,X_test,y_test,ax = disp.ax_)\n",
    "\n",
    "plt.legend(prop = {'size':11}, loc = 'lower right')\n",
    "plt.show()"
   ]
  },
  {
   "cell_type": "markdown",
   "id": "acb05fb5",
   "metadata": {},
   "source": [
    "1. Decission Tree Classifier has low AUC Value, therfore this algorithm is not recomendded.\n",
    "2. Based on the Accuracy , diffference between Accuracy and cross validation score ,Confusion matrix(Type I & II error), AUC & classification report ( Precision, Recall & F1 Score) Random Forest classifier algorithm is recommended"
   ]
  },
  {
   "cell_type": "markdown",
   "id": "89f26382",
   "metadata": {},
   "source": [
    "### Predicting on Test data"
   ]
  },
  {
   "cell_type": "code",
   "execution_count": 116,
   "id": "855b67c5",
   "metadata": {},
   "outputs": [],
   "source": [
    "#using logistic regression\n",
    "predict_test = lr.predict(new_test)\n",
    "test_df = pd.DataFrame (data=predict_test , columns =['Loan_Status'])\n",
    "test_df['Loan_Status']= test_df['Loan_Status'].map({1:'Y',0:'N'}) "
   ]
  },
  {
   "cell_type": "code",
   "execution_count": 117,
   "id": "44e81a93",
   "metadata": {},
   "outputs": [
    {
     "data": {
      "text/plain": [
       "<bound method NDFrame.tail of   Loan_Status\n",
       "0           Y\n",
       "1           Y\n",
       "2           Y\n",
       "3           Y\n",
       "4           Y\n",
       "5           Y\n",
       "6           Y\n",
       "7           Y\n",
       "8           Y\n",
       "9           N>"
      ]
     },
     "execution_count": 117,
     "metadata": {},
     "output_type": "execute_result"
    }
   ],
   "source": [
    "test_df"
   ]
  },
  {
   "cell_type": "code",
   "execution_count": 118,
   "id": "fbb8fa8e",
   "metadata": {},
   "outputs": [
    {
     "data": {
      "text/plain": [
       "<bound method NDFrame.tail of   Loan_Status\n",
       "0           Y\n",
       "1           Y\n",
       "2           Y\n",
       "3           Y\n",
       "4           Y\n",
       "5           Y\n",
       "6           Y\n",
       "7           Y\n",
       "8           Y\n",
       "9           N>"
      ]
     },
     "execution_count": 118,
     "metadata": {},
     "output_type": "execute_result"
    }
   ],
   "source": [
    "#using random forest classifier\n",
    "predict_test = rf.predict(new_test)\n",
    "test_df = pd.DataFrame (data=predict_test , columns =['Loan_Status'])\n",
    "test_df['Loan_Status']= test_df['Loan_Status'].map({1:'Y',0:'N'}) \n",
    "test_df"
   ]
  },
  {
   "cell_type": "code",
   "execution_count": 119,
   "id": "b2428e4c",
   "metadata": {
    "scrolled": true
   },
   "outputs": [
    {
     "data": {
      "text/plain": [
       "<bound method NDFrame.tail of   Loan_Status\n",
       "0           Y\n",
       "1           Y\n",
       "2           Y\n",
       "3           Y\n",
       "4           Y\n",
       "5           Y\n",
       "6           Y\n",
       "7           Y\n",
       "8           Y\n",
       "9           N>"
      ]
     },
     "execution_count": 119,
     "metadata": {},
     "output_type": "execute_result"
    }
   ],
   "source": [
    "#using Ada boosting \n",
    "predict_test = adb.predict(new_test)\n",
    "test_df = pd.DataFrame (data=predict_test , columns =['Loan_Status'])\n",
    "test_df['Loan_Status']= test_df['Loan_Status'].map({1:'Y',0:'N'})\n",
    "test_df"
   ]
  },
  {
   "cell_type": "code",
   "execution_count": null,
   "id": "58456b7d",
   "metadata": {},
   "outputs": [],
   "source": []
  },
  {
   "cell_type": "markdown",
   "id": "05b0f0cb",
   "metadata": {},
   "source": [
    "### Conclusion"
   ]
  },
  {
   "cell_type": "markdown",
   "id": "659cebe5",
   "metadata": {},
   "source": [
    "In this project, machine learning approach to study bank credit dataset in order to predict customers credit worthiness their ability to pay their loan. We employed different machine learning algorithms on the dataset in order to determine which algorithms are the best fit for studying bank credit dataset\n",
    "1. Logistic Regression works good for our project having accuracy of 87.78% considering lower type-I & II error when compared to other models.\n",
    "2. Ada Boost Classifier with accuracy 83.96 % is also working good considering low false positives when compared to the other models.\n",
    "3. Whereas, Random forest Classifier is giving accuracy of 88.54% but with high type-I & II errors when compared to other models."
   ]
  },
  {
   "cell_type": "markdown",
   "id": "5f655480",
   "metadata": {},
   "source": [
    "### Recommendations for Bank"
   ]
  },
  {
   "cell_type": "markdown",
   "id": "71c5ea73",
   "metadata": {},
   "source": [
    "1. Logistic Regression is recommended for our project having accuracy of 87.78% considering lower type-I & II errors.\n",
    "2. Creating features like LoanAmount_per_term & RatioIncome_per_term helped in increasing the accuracy of the models.\n",
    "3. We would need more data to make the models perform better.\n",
    "4. As we have seen, the prediction is showing a similar relationship with the actual loan status from the train data set, which means the model predicted correctly & this could help banks to save time & predict which all customers could get the approval based on these features."
   ]
  }
 ],
 "metadata": {
  "kernelspec": {
   "display_name": "Python 3 (ipykernel)",
   "language": "python",
   "name": "python3"
  },
  "language_info": {
   "codemirror_mode": {
    "name": "ipython",
    "version": 3
   },
   "file_extension": ".py",
   "mimetype": "text/x-python",
   "name": "python",
   "nbconvert_exporter": "python",
   "pygments_lexer": "ipython3",
   "version": "3.9.12"
  }
 },
 "nbformat": 4,
 "nbformat_minor": 5
}
